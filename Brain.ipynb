{
 "cells": [
  {
   "cell_type": "markdown",
   "metadata": {},
   "source": [
    "https://medium.com/@curiousily/tensorflow-for-hackers-part-ii-building-simple-neural-network-2d6779d2f91b"
   ]
  },
  {
   "cell_type": "code",
   "execution_count": 52,
   "metadata": {},
   "outputs": [],
   "source": [
    "import pandas as pd\n",
    "from math import floor\n",
    "import tensorflow as tf\n",
    "import numpy as np\n",
    "from sklearn import preprocessing"
   ]
  },
  {
   "cell_type": "code",
   "execution_count": 53,
   "metadata": {},
   "outputs": [],
   "source": [
    "data1 = pd.read_csv('premier_14_15.csv')\n",
    "data2 = pd.read_csv('premier_15_16.csv')\n",
    "data3 = pd.read_csv('premier_16_17.csv')\n",
    "data4 = pd.read_csv('premier_17_18.csv')\n",
    "\n",
    "dataCon = [data1,data2,data3,data4]\n",
    "data = pd.concat(dataCon)"
   ]
  },
  {
   "cell_type": "code",
   "execution_count": 54,
   "metadata": {},
   "outputs": [
    {
     "data": {
      "text/html": [
       "<div>\n",
       "<style scoped>\n",
       "    .dataframe tbody tr th:only-of-type {\n",
       "        vertical-align: middle;\n",
       "    }\n",
       "\n",
       "    .dataframe tbody tr th {\n",
       "        vertical-align: top;\n",
       "    }\n",
       "\n",
       "    .dataframe thead th {\n",
       "        text-align: right;\n",
       "    }\n",
       "</style>\n",
       "<table border=\"1\" class=\"dataframe\">\n",
       "  <thead>\n",
       "    <tr style=\"text-align: right;\">\n",
       "      <th></th>\n",
       "      <th>a</th>\n",
       "      <th>b</th>\n",
       "      <th>c</th>\n",
       "    </tr>\n",
       "  </thead>\n",
       "  <tbody>\n",
       "    <tr>\n",
       "      <th>0</th>\n",
       "      <td>-0.004052</td>\n",
       "      <td>-0.003067</td>\n",
       "      <td>0.007840</td>\n",
       "    </tr>\n",
       "    <tr>\n",
       "      <th>1</th>\n",
       "      <td>0.004441</td>\n",
       "      <td>-0.004384</td>\n",
       "      <td>-0.008359</td>\n",
       "    </tr>\n",
       "    <tr>\n",
       "      <th>2</th>\n",
       "      <td>-0.007877</td>\n",
       "      <td>-0.007370</td>\n",
       "      <td>-0.006368</td>\n",
       "    </tr>\n",
       "  </tbody>\n",
       "</table>\n",
       "</div>"
      ],
      "text/plain": [
       "          a         b         c\n",
       "0 -0.004052 -0.003067  0.007840\n",
       "1  0.004441 -0.004384 -0.008359\n",
       "2 -0.007877 -0.007370 -0.006368"
      ]
     },
     "execution_count": 54,
     "metadata": {},
     "output_type": "execute_result"
    }
   ],
   "source": [
    "b = np.random.uniform(low=-0.01,high=0.01,size=(3,3))\n",
    "a = pd.DataFrame(b,columns=['a','b','c'])\n",
    "a"
   ]
  },
  {
   "cell_type": "code",
   "execution_count": 55,
   "metadata": {},
   "outputs": [],
   "source": [
    "def normalization(raw_data):\n",
    "    for col_num in range(raw_data.shape[1]):\n",
    "        if raw_data.iloc[:,col_num].dtype == np.float or raw_data.iloc[:,col_num].dtype == np.int:\n",
    "            raw_data.iloc[:,col_num] = (raw_data.iloc[:,col_num] - raw_data.iloc[:,col_num].mean()) / (raw_data.iloc[:,col_num].max() - raw_data.iloc[:,col_num].min())\n",
    "    return raw_data"
   ]
  },
  {
   "cell_type": "code",
   "execution_count": 56,
   "metadata": {},
   "outputs": [],
   "source": [
    "def embedding_matrix(column):\n",
    "    labels = []\n",
    "    embeddings = np.array([])\n",
    "    num_of_uniques = len(np.unique(column))\n",
    "    for i in range(num_of_uniques):\n",
    "        if embeddings.size == 0:\n",
    "            embeddings = np.random.uniform(low=-0.01,high=0.01,size=(min(50,(num_of_uniques+1)//2),1))\n",
    "        else:\n",
    "            embeddings = np.append(embeddings,np.random.uniform(low=-0.01,high=0.01,size=(min(50,(num_of_uniques+1)//2),1)),axis=1)\n",
    "        labels.append(np.unique(column)[i])\n",
    "    print(\"embeddings.shape:\",embeddings.shape)\n",
    "    print(\"labels.shape:\",len(labels))\n",
    "    return pd.DataFrame(data=embeddings,columns=labels)"
   ]
  },
  {
   "cell_type": "code",
   "execution_count": 57,
   "metadata": {},
   "outputs": [
    {
     "name": "stdout",
     "output_type": "stream",
     "text": [
      "embeddings.shape: (13, 26)\n",
      "labels.shape: 26\n"
     ]
    },
    {
     "data": {
      "text/html": [
       "<div>\n",
       "<style scoped>\n",
       "    .dataframe tbody tr th:only-of-type {\n",
       "        vertical-align: middle;\n",
       "    }\n",
       "\n",
       "    .dataframe tbody tr th {\n",
       "        vertical-align: top;\n",
       "    }\n",
       "\n",
       "    .dataframe thead th {\n",
       "        text-align: right;\n",
       "    }\n",
       "</style>\n",
       "<table border=\"1\" class=\"dataframe\">\n",
       "  <thead>\n",
       "    <tr style=\"text-align: right;\">\n",
       "      <th></th>\n",
       "      <th>Arsenal</th>\n",
       "      <th>Aston Villa</th>\n",
       "      <th>Bournemouth</th>\n",
       "      <th>Brighton</th>\n",
       "      <th>Burnley</th>\n",
       "      <th>Chelsea</th>\n",
       "      <th>Crystal Palace</th>\n",
       "      <th>Everton</th>\n",
       "      <th>Huddersfield</th>\n",
       "      <th>Hull</th>\n",
       "      <th>...</th>\n",
       "      <th>Norwich</th>\n",
       "      <th>QPR</th>\n",
       "      <th>Southampton</th>\n",
       "      <th>Stoke</th>\n",
       "      <th>Sunderland</th>\n",
       "      <th>Swansea</th>\n",
       "      <th>Tottenham</th>\n",
       "      <th>Watford</th>\n",
       "      <th>West Brom</th>\n",
       "      <th>West Ham</th>\n",
       "    </tr>\n",
       "  </thead>\n",
       "  <tbody>\n",
       "    <tr>\n",
       "      <th>0</th>\n",
       "      <td>0.009482</td>\n",
       "      <td>0.003540</td>\n",
       "      <td>-0.001117</td>\n",
       "      <td>0.007661</td>\n",
       "      <td>-0.002521</td>\n",
       "      <td>-0.001396</td>\n",
       "      <td>0.002739</td>\n",
       "      <td>0.003336</td>\n",
       "      <td>-0.000349</td>\n",
       "      <td>0.007904</td>\n",
       "      <td>...</td>\n",
       "      <td>-0.000243</td>\n",
       "      <td>0.003307</td>\n",
       "      <td>-0.007425</td>\n",
       "      <td>-0.006154</td>\n",
       "      <td>-0.001202</td>\n",
       "      <td>0.009593</td>\n",
       "      <td>0.009590</td>\n",
       "      <td>-0.005890</td>\n",
       "      <td>0.004915</td>\n",
       "      <td>-0.006597</td>\n",
       "    </tr>\n",
       "    <tr>\n",
       "      <th>1</th>\n",
       "      <td>-0.004930</td>\n",
       "      <td>0.004760</td>\n",
       "      <td>0.005727</td>\n",
       "      <td>0.006870</td>\n",
       "      <td>0.007289</td>\n",
       "      <td>0.008137</td>\n",
       "      <td>0.001416</td>\n",
       "      <td>0.001077</td>\n",
       "      <td>0.008796</td>\n",
       "      <td>-0.003759</td>\n",
       "      <td>...</td>\n",
       "      <td>0.004800</td>\n",
       "      <td>0.006528</td>\n",
       "      <td>-0.009955</td>\n",
       "      <td>-0.005135</td>\n",
       "      <td>-0.001517</td>\n",
       "      <td>-0.000657</td>\n",
       "      <td>0.000997</td>\n",
       "      <td>0.000307</td>\n",
       "      <td>0.000867</td>\n",
       "      <td>0.000593</td>\n",
       "    </tr>\n",
       "    <tr>\n",
       "      <th>2</th>\n",
       "      <td>-0.000830</td>\n",
       "      <td>0.000066</td>\n",
       "      <td>-0.009269</td>\n",
       "      <td>0.006025</td>\n",
       "      <td>0.007971</td>\n",
       "      <td>0.007626</td>\n",
       "      <td>0.009229</td>\n",
       "      <td>-0.007929</td>\n",
       "      <td>0.002798</td>\n",
       "      <td>0.006845</td>\n",
       "      <td>...</td>\n",
       "      <td>-0.009823</td>\n",
       "      <td>0.009596</td>\n",
       "      <td>0.001406</td>\n",
       "      <td>0.005775</td>\n",
       "      <td>0.003084</td>\n",
       "      <td>0.003508</td>\n",
       "      <td>0.001323</td>\n",
       "      <td>-0.000558</td>\n",
       "      <td>-0.006736</td>\n",
       "      <td>-0.004647</td>\n",
       "    </tr>\n",
       "    <tr>\n",
       "      <th>3</th>\n",
       "      <td>-0.002128</td>\n",
       "      <td>0.001575</td>\n",
       "      <td>0.009596</td>\n",
       "      <td>-0.001026</td>\n",
       "      <td>0.003067</td>\n",
       "      <td>0.002954</td>\n",
       "      <td>0.002109</td>\n",
       "      <td>-0.001817</td>\n",
       "      <td>-0.006577</td>\n",
       "      <td>-0.009358</td>\n",
       "      <td>...</td>\n",
       "      <td>0.004314</td>\n",
       "      <td>-0.002393</td>\n",
       "      <td>-0.007971</td>\n",
       "      <td>-0.006591</td>\n",
       "      <td>-0.005913</td>\n",
       "      <td>-0.008133</td>\n",
       "      <td>-0.000215</td>\n",
       "      <td>0.008346</td>\n",
       "      <td>-0.008767</td>\n",
       "      <td>-0.008361</td>\n",
       "    </tr>\n",
       "    <tr>\n",
       "      <th>4</th>\n",
       "      <td>-0.000325</td>\n",
       "      <td>-0.005892</td>\n",
       "      <td>0.009058</td>\n",
       "      <td>0.004134</td>\n",
       "      <td>0.006893</td>\n",
       "      <td>-0.005885</td>\n",
       "      <td>-0.007285</td>\n",
       "      <td>0.001174</td>\n",
       "      <td>0.004744</td>\n",
       "      <td>0.001155</td>\n",
       "      <td>...</td>\n",
       "      <td>-0.007234</td>\n",
       "      <td>-0.001093</td>\n",
       "      <td>-0.002983</td>\n",
       "      <td>0.001343</td>\n",
       "      <td>-0.006763</td>\n",
       "      <td>-0.005245</td>\n",
       "      <td>-0.003617</td>\n",
       "      <td>-0.003745</td>\n",
       "      <td>0.001057</td>\n",
       "      <td>-0.002464</td>\n",
       "    </tr>\n",
       "  </tbody>\n",
       "</table>\n",
       "<p>5 rows × 26 columns</p>\n",
       "</div>"
      ],
      "text/plain": [
       "    Arsenal  Aston Villa  Bournemouth  Brighton   Burnley   Chelsea  \\\n",
       "0  0.009482     0.003540    -0.001117  0.007661 -0.002521 -0.001396   \n",
       "1 -0.004930     0.004760     0.005727  0.006870  0.007289  0.008137   \n",
       "2 -0.000830     0.000066    -0.009269  0.006025  0.007971  0.007626   \n",
       "3 -0.002128     0.001575     0.009596 -0.001026  0.003067  0.002954   \n",
       "4 -0.000325    -0.005892     0.009058  0.004134  0.006893 -0.005885   \n",
       "\n",
       "   Crystal Palace   Everton  Huddersfield      Hull    ...      Norwich  \\\n",
       "0        0.002739  0.003336     -0.000349  0.007904    ...    -0.000243   \n",
       "1        0.001416  0.001077      0.008796 -0.003759    ...     0.004800   \n",
       "2        0.009229 -0.007929      0.002798  0.006845    ...    -0.009823   \n",
       "3        0.002109 -0.001817     -0.006577 -0.009358    ...     0.004314   \n",
       "4       -0.007285  0.001174      0.004744  0.001155    ...    -0.007234   \n",
       "\n",
       "        QPR  Southampton     Stoke  Sunderland   Swansea  Tottenham   Watford  \\\n",
       "0  0.003307    -0.007425 -0.006154   -0.001202  0.009593   0.009590 -0.005890   \n",
       "1  0.006528    -0.009955 -0.005135   -0.001517 -0.000657   0.000997  0.000307   \n",
       "2  0.009596     0.001406  0.005775    0.003084  0.003508   0.001323 -0.000558   \n",
       "3 -0.002393    -0.007971 -0.006591   -0.005913 -0.008133  -0.000215  0.008346   \n",
       "4 -0.001093    -0.002983  0.001343   -0.006763 -0.005245  -0.003617 -0.003745   \n",
       "\n",
       "   West Brom  West Ham  \n",
       "0   0.004915 -0.006597  \n",
       "1   0.000867  0.000593  \n",
       "2  -0.006736 -0.004647  \n",
       "3  -0.008767 -0.008361  \n",
       "4   0.001057 -0.002464  \n",
       "\n",
       "[5 rows x 26 columns]"
      ]
     },
     "execution_count": 57,
     "metadata": {},
     "output_type": "execute_result"
    }
   ],
   "source": [
    "em = embedding_matrix(data['HomeTeam'])\n",
    "em.head()"
   ]
  },
  {
   "cell_type": "code",
   "execution_count": 58,
   "metadata": {},
   "outputs": [],
   "source": [
    "#x_data = data.drop(['FTR','FTAG','FTHG'],1)\n",
    "data = normalization(data)\n",
    "x_data = np.column_stack((np.transpose(em[data['HomeTeam']].values),\n",
    "                          np.transpose(em[data['AwayTeam']].values),\n",
    "                          data['B365H'][:,None],\n",
    "                          data['B365D'][:,None],\n",
    "                          data['B365A'][:,None]))\n",
    "y_data = data['FTR']\n",
    "\n",
    "y_data = pd.get_dummies(y_data)\n",
    "\n",
    "#differences = data['FTHG']-data['FTAG']"
   ]
  },
  {
   "cell_type": "code",
   "execution_count": 59,
   "metadata": {},
   "outputs": [],
   "source": [
    "#x_data = data.drop(['FTR','FTAG','FTHG'],1)\n",
    "x_data = np.column_stack((data['B365H'][:,None],\n",
    "                          data['B365D'][:,None],\n",
    "                          data['B365A'][:,None]))\n",
    "y_data = data['FTR']\n",
    "\n",
    "y_data = pd.get_dummies(y_data)\n",
    "\n",
    "#differences = data['FTHG']-data['FTAG']"
   ]
  },
  {
   "cell_type": "code",
   "execution_count": 60,
   "metadata": {},
   "outputs": [
    {
     "data": {
      "text/plain": [
       "(1520, 3)"
      ]
     },
     "execution_count": 60,
     "metadata": {},
     "output_type": "execute_result"
    }
   ],
   "source": [
    "x_data.shape"
   ]
  },
  {
   "cell_type": "code",
   "execution_count": 61,
   "metadata": {},
   "outputs": [
    {
     "data": {
      "text/plain": [
       "array([[-0.10172656,  0.23538092],\n",
       "       [ 0.02076088, -0.07461908],\n",
       "       [-0.09481701,  0.08538092],\n",
       "       ...,\n",
       "       [-0.06089741, -0.03561908],\n",
       "       [-0.09670143,  0.18538092],\n",
       "       [-0.02634968, -0.06461908]])"
      ]
     },
     "execution_count": 61,
     "metadata": {},
     "output_type": "execute_result"
    }
   ],
   "source": [
    "# Two first games\n",
    "x_data[:,0:2]"
   ]
  },
  {
   "cell_type": "code",
   "execution_count": 62,
   "metadata": {},
   "outputs": [
    {
     "data": {
      "text/plain": [
       "(1520, 3)"
      ]
     },
     "execution_count": 62,
     "metadata": {},
     "output_type": "execute_result"
    }
   ],
   "source": [
    "y_data.shape"
   ]
  },
  {
   "cell_type": "code",
   "execution_count": 63,
   "metadata": {},
   "outputs": [
    {
     "data": {
      "text/html": [
       "<div>\n",
       "<style scoped>\n",
       "    .dataframe tbody tr th:only-of-type {\n",
       "        vertical-align: middle;\n",
       "    }\n",
       "\n",
       "    .dataframe tbody tr th {\n",
       "        vertical-align: top;\n",
       "    }\n",
       "\n",
       "    .dataframe thead th {\n",
       "        text-align: right;\n",
       "    }\n",
       "</style>\n",
       "<table border=\"1\" class=\"dataframe\">\n",
       "  <thead>\n",
       "    <tr style=\"text-align: right;\">\n",
       "      <th></th>\n",
       "      <th>A</th>\n",
       "      <th>D</th>\n",
       "      <th>H</th>\n",
       "    </tr>\n",
       "  </thead>\n",
       "  <tbody>\n",
       "    <tr>\n",
       "      <th>0</th>\n",
       "      <td>0</td>\n",
       "      <td>0</td>\n",
       "      <td>1</td>\n",
       "    </tr>\n",
       "    <tr>\n",
       "      <th>1</th>\n",
       "      <td>0</td>\n",
       "      <td>1</td>\n",
       "      <td>0</td>\n",
       "    </tr>\n",
       "    <tr>\n",
       "      <th>2</th>\n",
       "      <td>1</td>\n",
       "      <td>0</td>\n",
       "      <td>0</td>\n",
       "    </tr>\n",
       "    <tr>\n",
       "      <th>3</th>\n",
       "      <td>1</td>\n",
       "      <td>0</td>\n",
       "      <td>0</td>\n",
       "    </tr>\n",
       "    <tr>\n",
       "      <th>4</th>\n",
       "      <td>1</td>\n",
       "      <td>0</td>\n",
       "      <td>0</td>\n",
       "    </tr>\n",
       "  </tbody>\n",
       "</table>\n",
       "</div>"
      ],
      "text/plain": [
       "   A  D  H\n",
       "0  0  0  1\n",
       "1  0  1  0\n",
       "2  1  0  0\n",
       "3  1  0  0\n",
       "4  1  0  0"
      ]
     },
     "execution_count": 63,
     "metadata": {},
     "output_type": "execute_result"
    }
   ],
   "source": [
    "y_data.head()"
   ]
  },
  {
   "cell_type": "code",
   "execution_count": 64,
   "metadata": {},
   "outputs": [
    {
     "name": "stdout",
     "output_type": "stream",
     "text": [
      "x_train: (1368, 3)\n",
      "x_valid: (45, 3)\n",
      "x_test: (107, 3)\n"
     ]
    }
   ],
   "source": [
    "train_size = 0.9\n",
    "valid_size = 0.3\n",
    "\n",
    "train_cnt = floor(x_data.shape[0] * train_size)\n",
    "\n",
    "x_train = x_data[0:train_cnt]\n",
    "y_train = y_data.iloc[0:train_cnt].values\n",
    "\n",
    "valid_cnt = floor((x_data.shape[0] - train_cnt) * valid_size)\n",
    "\n",
    "x_valid = x_data[train_cnt:train_cnt+valid_cnt]\n",
    "y_valid = y_data.iloc[train_cnt:train_cnt+valid_cnt].values\n",
    "\n",
    "x_test = x_data[train_cnt+valid_cnt:]\n",
    "y_test = y_data.iloc[train_cnt+valid_cnt:]\n",
    "\n",
    "print(\"x_train:\",x_train.shape)\n",
    "print(\"x_valid:\",x_valid.shape)\n",
    "print(\"x_test:\",x_test.shape)"
   ]
  },
  {
   "cell_type": "code",
   "execution_count": 65,
   "metadata": {},
   "outputs": [],
   "source": [
    "x = tf.placeholder(tf.float32)\n",
    "y = tf.placeholder(tf.float32)"
   ]
  },
  {
   "cell_type": "code",
   "execution_count": 66,
   "metadata": {},
   "outputs": [],
   "source": [
    "# Parameters\n",
    "LEARNING_RATE_STA = 1e-3\n",
    "num_epochs = 50\n",
    "batch_size = 128\n",
    "display_step = 5"
   ]
  },
  {
   "cell_type": "code",
   "execution_count": 67,
   "metadata": {},
   "outputs": [],
   "source": [
    "# Network Parameters\n",
    "num_input = x_data.shape[1]\n",
    "num_classes = y_data.shape[1]\n",
    "num_hidden_1 = 50\n",
    "num_hidden_2 = 50\n",
    "KEEP_PROB_STA = 0.9"
   ]
  },
  {
   "cell_type": "code",
   "execution_count": 68,
   "metadata": {},
   "outputs": [],
   "source": [
    "def neural_network(x,weights,biases,keep_prob):\n",
    "    layer_1 = tf.add(tf.matmul(x,weights['w1']),biases['b1'])\n",
    "    layer_1 = tf.nn.relu(layer_1)\n",
    "    layer_1 = tf.nn.dropout(layer_1,keep_prob)\n",
    "    \n",
    "    layer_2 = tf.add(tf.matmul(layer_1,weights['w2']),biases['b2'])\n",
    "    layer_2 = tf.nn.relu(layer_2)\n",
    "    layer_2 = tf.nn.dropout(layer_2,keep_prob)\n",
    "    \n",
    "    layer_out = tf.add(tf.matmul(layer_2, weights['out']), biases['out'])\n",
    "    return layer_out"
   ]
  },
  {
   "cell_type": "code",
   "execution_count": 69,
   "metadata": {},
   "outputs": [],
   "source": [
    "# Store layers weight & bias\n",
    "weights = {\n",
    "    'w1': tf.Variable(tf.random_normal([num_input,num_hidden_1])),\n",
    "    'w2': tf.Variable(tf.random_normal([num_hidden_1,num_hidden_2])),\n",
    "    'out': tf.Variable(tf.random_normal([num_hidden_2, num_classes]))\n",
    "}\n",
    "\n",
    "biases = {\n",
    "    'b1': tf.Variable(tf.random_normal([num_hidden_1])),\n",
    "    'b2': tf.Variable(tf.random_normal([num_hidden_2])),\n",
    "    'out': tf.Variable(tf.random_normal([num_classes]))\n",
    "}\n",
    "\n",
    "keep_prob = tf.placeholder(\"float\")"
   ]
  },
  {
   "cell_type": "code",
   "execution_count": 70,
   "metadata": {},
   "outputs": [],
   "source": [
    "predictions = neural_network(x, weights, biases, keep_prob)\n",
    "cost = tf.reduce_mean(tf.nn.softmax_cross_entropy_with_logits(logits=predictions, labels=y))\n",
    "optimizer = tf.train.AdamOptimizer(learning_rate=LEARNING_RATE_STA).minimize(cost)"
   ]
  },
  {
   "cell_type": "code",
   "execution_count": 71,
   "metadata": {},
   "outputs": [],
   "source": [
    "costs = []\n",
    "lrn_rate_sizes = []"
   ]
  },
  {
   "cell_type": "code",
   "execution_count": 72,
   "metadata": {},
   "outputs": [
    {
     "name": "stdout",
     "output_type": "stream",
     "text": [
      "Train: Epoch: 0005 cost= 14.639687252\n",
      "Valid: Epoch: 0005 cost= 7.217744350\n",
      "Accuracy: 0.45794392\n",
      "______________________________________\n",
      "Train: Epoch: 0010 cost= 8.123380804\n",
      "Valid: Epoch: 0010 cost= 3.757234097\n",
      "Accuracy: 0.39252338\n",
      "______________________________________\n",
      "Train: Epoch: 0015 cost= 7.011940718\n",
      "Valid: Epoch: 0015 cost= 2.546033621\n",
      "Accuracy: 0.44859812\n",
      "______________________________________\n",
      "Train: Epoch: 0020 cost= 6.122287321\n",
      "Valid: Epoch: 0020 cost= 2.085423470\n",
      "Accuracy: 0.48598132\n",
      "______________________________________\n",
      "Train: Epoch: 0025 cost= 5.233317709\n",
      "Valid: Epoch: 0025 cost= 2.182467699\n",
      "Accuracy: 0.57009345\n",
      "______________________________________\n",
      "Train: Epoch: 0030 cost= 4.904307556\n",
      "Valid: Epoch: 0030 cost= 2.305070400\n",
      "Accuracy: 0.5420561\n",
      "______________________________________\n",
      "Train: Epoch: 0035 cost= 4.445039535\n",
      "Valid: Epoch: 0035 cost= 2.415178537\n",
      "Accuracy: 0.5607477\n",
      "______________________________________\n",
      "Train: Epoch: 0040 cost= 3.930668139\n",
      "Valid: Epoch: 0040 cost= 2.189312696\n",
      "Accuracy: 0.5607477\n",
      "______________________________________\n",
      "Train: Epoch: 0045 cost= 3.636997890\n",
      "Valid: Epoch: 0045 cost= 2.088778257\n",
      "Accuracy: 0.5607477\n",
      "______________________________________\n",
      "Train: Epoch: 0050 cost= 3.385137343\n",
      "Valid: Epoch: 0050 cost= 1.808984399\n",
      "Accuracy: 0.5420561\n",
      "______________________________________\n",
      "Optimization Finished!\n",
      "Accuracy: 0.5607477\n"
     ]
    }
   ],
   "source": [
    "with tf.Session() as sess:\n",
    "    sess.run(tf.global_variables_initializer())\n",
    "    \n",
    "    for epoch in range(num_epochs):\n",
    "        avg_cost = 0.0\n",
    "        total_batch = int(len(x_train) / batch_size)\n",
    "        x_batches = np.array_split(x_train, total_batch)\n",
    "        y_batches = np.array_split(y_train, total_batch)\n",
    "        \n",
    "        for i in range(total_batch):\n",
    "            batch_x, batch_y = x_batches[i], y_batches[i]\n",
    "            _, c = sess.run([optimizer, cost], \n",
    "                            feed_dict={\n",
    "                                x: batch_x, \n",
    "                                y: batch_y, \n",
    "                                keep_prob: KEEP_PROB_STA\n",
    "                            })\n",
    "            avg_cost += c / total_batch\n",
    "            \n",
    "        if epoch % display_step == 0:\n",
    "            print(\"Train: Epoch:\", '%04d' % (epoch+display_step), \"cost=\", \"{:.9f}\".format(avg_cost))\n",
    "            _, valid_cost = sess.run([optimizer, cost], feed_dict={x: x_valid, y: y_valid, keep_prob: 1})\n",
    "            print(\"Valid: Epoch:\", '%04d' % (epoch+display_step), \"cost=\", \"{:.9f}\".format(valid_cost))\n",
    "            \n",
    "            correct_prediction = tf.equal(tf.argmax(predictions, 1), tf.argmax(y, 1))\n",
    "            accuracy = tf.reduce_mean(tf.cast(correct_prediction, \"float\"))\n",
    "            print(\"Accuracy:\", accuracy.eval({x: x_test, y: y_test, keep_prob: 1.0}))\n",
    "            print(\"______________________________________\")\n",
    "    print(\"Optimization Finished!\")\n",
    "    correct_prediction = tf.equal(tf.argmax(predictions, 1), tf.argmax(y, 1))\n",
    "    accuracy = tf.reduce_mean(tf.cast(correct_prediction, \"float\"))\n",
    "    print(\"Accuracy:\", accuracy.eval({x: x_test, y: y_test, keep_prob: 1.0}))"
   ]
  },
  {
   "cell_type": "code",
   "execution_count": null,
   "metadata": {},
   "outputs": [],
   "source": []
  }
 ],
 "metadata": {
  "kernelspec": {
   "display_name": "Python 3",
   "language": "python",
   "name": "python3"
  },
  "language_info": {
   "codemirror_mode": {
    "name": "ipython",
    "version": 3
   },
   "file_extension": ".py",
   "mimetype": "text/x-python",
   "name": "python",
   "nbconvert_exporter": "python",
   "pygments_lexer": "ipython3",
   "version": "3.6.4"
  }
 },
 "nbformat": 4,
 "nbformat_minor": 2
}
