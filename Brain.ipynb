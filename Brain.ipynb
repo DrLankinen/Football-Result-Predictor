{
 "cells": [
  {
   "cell_type": "markdown",
   "metadata": {},
   "source": [
    "https://medium.com/@curiousily/tensorflow-for-hackers-part-ii-building-simple-neural-network-2d6779d2f91b"
   ]
  },
  {
   "cell_type": "code",
   "execution_count": 15,
   "metadata": {},
   "outputs": [],
   "source": [
    "import pandas as pd\n",
    "from math import floor\n",
    "import tensorflow as tf\n",
    "import numpy as np"
   ]
  },
  {
   "cell_type": "code",
   "execution_count": 16,
   "metadata": {},
   "outputs": [],
   "source": [
    "data1 = pd.read_csv('premier_14_15.csv')\n",
    "data2 = pd.read_csv('premier_15_16.csv')\n",
    "data3 = pd.read_csv('premier_16_17.csv')\n",
    "data4 = pd.read_csv('premier_17_18.csv')\n",
    "\n",
    "dataCon = [data1,data2,data3,data4]\n",
    "data = pd.concat(dataCon)"
   ]
  },
  {
   "cell_type": "code",
   "execution_count": 17,
   "metadata": {},
   "outputs": [
    {
     "name": "stdout",
     "output_type": "stream",
     "text": [
      "x_data: (1520, 50)\n",
      "x_data2: (1520, 530)\n"
     ]
    }
   ],
   "source": [
    "x_data = data.drop(['FTR','FTAG','FTHG'],1)\n",
    "print(\"x_data:\",x_data.shape)\n",
    "x_data = pd.get_dummies(x_data)\n",
    "print(\"x_data2:\",x_data.shape)\n",
    "y_data = data['FTR']\n",
    "y_data = pd.get_dummies(y_data)\n",
    "differences = data['FTHG']-data['FTAG']"
   ]
  },
  {
   "cell_type": "code",
   "execution_count": 18,
   "metadata": {},
   "outputs": [
    {
     "name": "stdout",
     "output_type": "stream",
     "text": [
      "x_train: (1368, 530)\n",
      "x_test: (152, 530)\n"
     ]
    }
   ],
   "source": [
    "train_size = 0.9\n",
    "\n",
    "train_cnt = floor(x_data.shape[0] * train_size)\n",
    "x_train = x_data.iloc[0:train_cnt].values\n",
    "y_train = y_data.iloc[0:train_cnt].values\n",
    "x_test = x_data.iloc[train_cnt:].values\n",
    "y_test = y_data.iloc[train_cnt:].values\n",
    "print(\"x_train:\",x_train.shape)\n",
    "print(\"x_test:\",x_test.shape)"
   ]
  },
  {
   "cell_type": "code",
   "execution_count": 19,
   "metadata": {},
   "outputs": [],
   "source": [
    "x = tf.placeholder(tf.float32)\n",
    "y = tf.placeholder(tf.float32)"
   ]
  },
  {
   "cell_type": "code",
   "execution_count": 20,
   "metadata": {},
   "outputs": [],
   "source": [
    "# Parameters\n",
    "learning_rate = 0.01\n",
    "num_epochs = 10\n",
    "num_steps = 1000\n",
    "batch_size = 64\n",
    "display_step = 1"
   ]
  },
  {
   "cell_type": "code",
   "execution_count": 21,
   "metadata": {},
   "outputs": [],
   "source": [
    "# Network Parameters\n",
    "num_input = x_data.shape[1]\n",
    "num_classes = y_data.shape[1]\n",
    "num_hidden_1 = 100\n",
    "num_hidden_2 = 100\n",
    "num_hidden_3 = 100\n",
    "drop_out_keep_prob = 0.7"
   ]
  },
  {
   "cell_type": "code",
   "execution_count": 22,
   "metadata": {},
   "outputs": [],
   "source": [
    "def neural_network(x,weights,biases,keep_prob):\n",
    "    layer_1 = tf.add(tf.matmul(x,weights['w1']),biases['b1'])\n",
    "    layer_1 = tf.nn.relu(layer_1)\n",
    "    layer_1 = tf.nn.dropout(layer_1,keep_prob)\n",
    "    \n",
    "    layer_2 = tf.add(tf.matmul(layer_1,weights['w2']),biases['b2'])\n",
    "    layer_2 = tf.nn.relu(layer_2)\n",
    "    layer_2 = tf.nn.dropout(layer_2,keep_prob)\n",
    "    \n",
    "    layer_3 = tf.add(tf.matmul(layer_2,weights['w3']),biases['b3'])\n",
    "    layer_3 = tf.nn.relu(layer_3)\n",
    "    layer_3 = tf.nn.dropout(layer_3,keep_prob)\n",
    "    \n",
    "    layer_out = tf.add(tf.matmul(layer_3, weights['out']), biases['out'])\n",
    "    return layer_out"
   ]
  },
  {
   "cell_type": "code",
   "execution_count": 23,
   "metadata": {},
   "outputs": [],
   "source": [
    "# Store layers weight & bias\n",
    "weights = {\n",
    "    'w1': tf.Variable(tf.random_normal([num_input,num_hidden_1])),\n",
    "    'w2': tf.Variable(tf.random_normal([num_hidden_1,num_hidden_2])),\n",
    "    'w3': tf.Variable(tf.random_normal([num_hidden_2,num_hidden_3])),\n",
    "    'out': tf.Variable(tf.random_normal([num_hidden_3, num_classes]))\n",
    "}\n",
    "\n",
    "biases = {\n",
    "    'b1': tf.Variable(tf.random_normal([num_hidden_1])),\n",
    "    'b2': tf.Variable(tf.random_normal([num_hidden_2])),\n",
    "    'b3': tf.Variable(tf.random_normal([num_hidden_3])),\n",
    "    'out': tf.Variable(tf.random_normal([num_classes]))\n",
    "}\n",
    "\n",
    "keep_prob = tf.placeholder(\"float\")"
   ]
  },
  {
   "cell_type": "code",
   "execution_count": 24,
   "metadata": {},
   "outputs": [],
   "source": [
    "# Construct model\n",
    "logits = neural_network(x, weights, biases, keep_prob)\n",
    "prediction = tf.nn.softmax(logits)"
   ]
  },
  {
   "cell_type": "code",
   "execution_count": 25,
   "metadata": {},
   "outputs": [],
   "source": [
    "# Define loss and optimizer\n",
    "loss_op = tf.reduce_mean(tf.nn.softmax_cross_entropy_with_logits(\n",
    "    logits=logits, labels=y))\n",
    "optimizer = tf.train.AdamOptimizer(learning_rate=learning_rate).minimize(loss_op)"
   ]
  },
  {
   "cell_type": "code",
   "execution_count": 26,
   "metadata": {},
   "outputs": [],
   "source": [
    "# Evaluate model\n",
    "correct_pred = tf.equal(tf.argmax(prediction, 1), tf.argmax(y, 1))\n",
    "accuracy = tf.reduce_mean(tf.cast(correct_pred, tf.float32))\n",
    "\n",
    "# Initialize the variables (i.e. assign their default value)\n",
    "init = tf.global_variables_initializer()"
   ]
  },
  {
   "cell_type": "code",
   "execution_count": 27,
   "metadata": {},
   "outputs": [],
   "source": [
    "predictions = neural_network(x, weights, biases, keep_prob)\n",
    "cost = tf.reduce_mean(tf.nn.softmax_cross_entropy_with_logits(logits=predictions, labels=y))\n",
    "optimizer = tf.train.AdamOptimizer(learning_rate=0.0001).minimize(cost)"
   ]
  },
  {
   "cell_type": "code",
   "execution_count": 28,
   "metadata": {},
   "outputs": [
    {
     "name": "stdout",
     "output_type": "stream",
     "text": [
      "Epoch: 0001 cost= 1124.634476435\n",
      "Epoch: 0002 cost= 60.245902289\n",
      "Epoch: 0003 cost= 58.233040764\n",
      "Epoch: 0004 cost= 56.858693441\n",
      "Epoch: 0005 cost= 58.993330819\n",
      "Epoch: 0006 cost= 53.110377175\n",
      "Epoch: 0007 cost= 53.643111093\n",
      "Epoch: 0008 cost= 56.608055841\n",
      "Epoch: 0009 cost= 51.533477602\n",
      "Epoch: 0010 cost= 52.592330933\n",
      "Optimization Finished!\n",
      "Accuracy: 0.26973686\n"
     ]
    }
   ],
   "source": [
    "with tf.Session() as sess:\n",
    "    sess.run(tf.global_variables_initializer())\n",
    "    \n",
    "    for epoch in range(num_epochs):\n",
    "        avg_cost = 0.0\n",
    "        total_batch = int(len(x_train) / batch_size)\n",
    "        x_batches = np.array_split(x_train, total_batch)\n",
    "        y_batches = np.array_split(y_train, total_batch)\n",
    "        for i in range(total_batch):\n",
    "            batch_x, batch_y = x_batches[i], y_batches[i]\n",
    "            _, c = sess.run([optimizer, cost], \n",
    "                            feed_dict={\n",
    "                                x: batch_x, \n",
    "                                y: batch_y, \n",
    "                                keep_prob: drop_out_keep_prob\n",
    "                            })\n",
    "            avg_cost += c / total_batch\n",
    "        if epoch % display_step == 0:\n",
    "            print(\"Epoch:\", '%04d' % (epoch+1), \"cost=\", \\\n",
    "                \"{:.9f}\".format(avg_cost))\n",
    "    print(\"Optimization Finished!\")\n",
    "    correct_prediction = tf.equal(tf.argmax(predictions, 1), tf.argmax(y, 1))\n",
    "    accuracy = tf.reduce_mean(tf.cast(correct_prediction, \"float\"))\n",
    "    print(\"Accuracy:\", accuracy.eval({x: x_test, y: y_test, keep_prob: 1.0}))"
   ]
  }
 ],
 "metadata": {
  "kernelspec": {
   "display_name": "Python 3",
   "language": "python",
   "name": "python3"
  },
  "language_info": {
   "codemirror_mode": {
    "name": "ipython",
    "version": 3
   },
   "file_extension": ".py",
   "mimetype": "text/x-python",
   "name": "python",
   "nbconvert_exporter": "python",
   "pygments_lexer": "ipython3",
   "version": "3.6.4"
  }
 },
 "nbformat": 4,
 "nbformat_minor": 2
}
