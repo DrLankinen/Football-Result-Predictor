{
 "cells": [
  {
   "cell_type": "markdown",
   "metadata": {},
   "source": [
    "https://medium.com/@curiousily/tensorflow-for-hackers-part-ii-building-simple-neural-network-2d6779d2f91b"
   ]
  },
  {
   "cell_type": "code",
   "execution_count": 1,
   "metadata": {},
   "outputs": [
    {
     "name": "stderr",
     "output_type": "stream",
     "text": [
      "C:\\Users\\Elias\\Anaconda3\\lib\\site-packages\\h5py\\__init__.py:36: FutureWarning: Conversion of the second argument of issubdtype from `float` to `np.floating` is deprecated. In future, it will be treated as `np.float64 == np.dtype(float).type`.\n",
      "  from ._conv import register_converters as _register_converters\n"
     ]
    }
   ],
   "source": [
    "import pandas as pd\n",
    "from math import floor\n",
    "import tensorflow as tf\n",
    "import numpy as np\n",
    "from sklearn import preprocessing"
   ]
  },
  {
   "cell_type": "code",
   "execution_count": 2,
   "metadata": {},
   "outputs": [
    {
     "name": "stderr",
     "output_type": "stream",
     "text": [
      "C:\\Users\\Elias\\Anaconda3\\lib\\site-packages\\ipykernel_launcher.py:7: FutureWarning: Sorting because non-concatenation axis is not aligned. A future version\n",
      "of pandas will change to not sort by default.\n",
      "\n",
      "To accept the future behavior, pass 'sort=True'.\n",
      "\n",
      "To retain the current behavior and silence the warning, pass sort=False\n",
      "\n",
      "  import sys\n"
     ]
    }
   ],
   "source": [
    "data1 = pd.read_csv('premier_14_15.csv')\n",
    "data2 = pd.read_csv('premier_15_16.csv')\n",
    "data3 = pd.read_csv('premier_16_17.csv')\n",
    "data4 = pd.read_csv('premier_17_18.csv')\n",
    "\n",
    "dataCon = [data1,data2,data3,data4]\n",
    "data = pd.concat(dataCon)"
   ]
  },
  {
   "cell_type": "code",
   "execution_count": 3,
   "metadata": {},
   "outputs": [
    {
     "data": {
      "text/html": [
       "<div>\n",
       "<style scoped>\n",
       "    .dataframe tbody tr th:only-of-type {\n",
       "        vertical-align: middle;\n",
       "    }\n",
       "\n",
       "    .dataframe tbody tr th {\n",
       "        vertical-align: top;\n",
       "    }\n",
       "\n",
       "    .dataframe thead th {\n",
       "        text-align: right;\n",
       "    }\n",
       "</style>\n",
       "<table border=\"1\" class=\"dataframe\">\n",
       "  <thead>\n",
       "    <tr style=\"text-align: right;\">\n",
       "      <th></th>\n",
       "      <th>a</th>\n",
       "      <th>b</th>\n",
       "      <th>c</th>\n",
       "    </tr>\n",
       "  </thead>\n",
       "  <tbody>\n",
       "    <tr>\n",
       "      <th>0</th>\n",
       "      <td>0.001212</td>\n",
       "      <td>-0.004858</td>\n",
       "      <td>-0.000829</td>\n",
       "    </tr>\n",
       "    <tr>\n",
       "      <th>1</th>\n",
       "      <td>0.008037</td>\n",
       "      <td>0.004584</td>\n",
       "      <td>-0.006322</td>\n",
       "    </tr>\n",
       "    <tr>\n",
       "      <th>2</th>\n",
       "      <td>0.005960</td>\n",
       "      <td>0.005987</td>\n",
       "      <td>-0.005590</td>\n",
       "    </tr>\n",
       "  </tbody>\n",
       "</table>\n",
       "</div>"
      ],
      "text/plain": [
       "          a         b         c\n",
       "0  0.001212 -0.004858 -0.000829\n",
       "1  0.008037  0.004584 -0.006322\n",
       "2  0.005960  0.005987 -0.005590"
      ]
     },
     "execution_count": 3,
     "metadata": {},
     "output_type": "execute_result"
    }
   ],
   "source": [
    "b = np.random.uniform(low=-0.01,high=0.01,size=(3,3))\n",
    "a = pd.DataFrame(b,columns=['a','b','c'])\n",
    "a"
   ]
  },
  {
   "cell_type": "code",
   "execution_count": 4,
   "metadata": {},
   "outputs": [],
   "source": [
    "def normalization(raw_data):\n",
    "    for col_num in range(raw_data.shape[1]):\n",
    "        if raw_data.iloc[:,col_num].dtype == np.float or raw_data.iloc[:,col_num].dtype == np.int:\n",
    "            raw_data.iloc[:,col_num] = (raw_data.iloc[:,col_num] - raw_data.iloc[:,col_num].mean()) / (raw_data.iloc[:,col_num].max() - raw_data.iloc[:,col_num].min())\n",
    "    return raw_data"
   ]
  },
  {
   "cell_type": "code",
   "execution_count": 5,
   "metadata": {},
   "outputs": [],
   "source": [
    "def embedding_matrix(column):\n",
    "    labels = []\n",
    "    embeddings = np.array([])\n",
    "    num_of_uniques = len(np.unique(column))\n",
    "    for i in range(num_of_uniques):\n",
    "        if embeddings.size == 0:\n",
    "            embeddings = np.random.uniform(low=-0.01,high=0.01,size=(min(50,(num_of_uniques+1)//2),1))\n",
    "        else:\n",
    "            embeddings = np.append(embeddings,np.random.uniform(low=-0.01,high=0.01,size=(min(50,(num_of_uniques+1)//2),1)),axis=1)\n",
    "        labels.append(np.unique(column)[i])\n",
    "    print(\"embeddings.shape:\",embeddings.shape)\n",
    "    print(\"labels.shape:\",len(labels))\n",
    "    return pd.DataFrame(data=embeddings,columns=labels)"
   ]
  },
  {
   "cell_type": "code",
   "execution_count": 6,
   "metadata": {},
   "outputs": [
    {
     "name": "stdout",
     "output_type": "stream",
     "text": [
      "embeddings.shape: (13, 26)\n",
      "labels.shape: 26\n"
     ]
    },
    {
     "data": {
      "text/html": [
       "<div>\n",
       "<style scoped>\n",
       "    .dataframe tbody tr th:only-of-type {\n",
       "        vertical-align: middle;\n",
       "    }\n",
       "\n",
       "    .dataframe tbody tr th {\n",
       "        vertical-align: top;\n",
       "    }\n",
       "\n",
       "    .dataframe thead th {\n",
       "        text-align: right;\n",
       "    }\n",
       "</style>\n",
       "<table border=\"1\" class=\"dataframe\">\n",
       "  <thead>\n",
       "    <tr style=\"text-align: right;\">\n",
       "      <th></th>\n",
       "      <th>Arsenal</th>\n",
       "      <th>Aston Villa</th>\n",
       "      <th>Bournemouth</th>\n",
       "      <th>Brighton</th>\n",
       "      <th>Burnley</th>\n",
       "      <th>Chelsea</th>\n",
       "      <th>Crystal Palace</th>\n",
       "      <th>Everton</th>\n",
       "      <th>Huddersfield</th>\n",
       "      <th>Hull</th>\n",
       "      <th>...</th>\n",
       "      <th>Norwich</th>\n",
       "      <th>QPR</th>\n",
       "      <th>Southampton</th>\n",
       "      <th>Stoke</th>\n",
       "      <th>Sunderland</th>\n",
       "      <th>Swansea</th>\n",
       "      <th>Tottenham</th>\n",
       "      <th>Watford</th>\n",
       "      <th>West Brom</th>\n",
       "      <th>West Ham</th>\n",
       "    </tr>\n",
       "  </thead>\n",
       "  <tbody>\n",
       "    <tr>\n",
       "      <th>0</th>\n",
       "      <td>0.006524</td>\n",
       "      <td>-0.007546</td>\n",
       "      <td>-0.002282</td>\n",
       "      <td>-0.004149</td>\n",
       "      <td>0.002654</td>\n",
       "      <td>-0.006878</td>\n",
       "      <td>-0.008261</td>\n",
       "      <td>0.009751</td>\n",
       "      <td>0.003195</td>\n",
       "      <td>0.001499</td>\n",
       "      <td>...</td>\n",
       "      <td>-0.003738</td>\n",
       "      <td>-0.007296</td>\n",
       "      <td>0.008788</td>\n",
       "      <td>0.003515</td>\n",
       "      <td>0.004341</td>\n",
       "      <td>0.009036</td>\n",
       "      <td>-0.001634</td>\n",
       "      <td>-0.001646</td>\n",
       "      <td>0.003096</td>\n",
       "      <td>0.005937</td>\n",
       "    </tr>\n",
       "    <tr>\n",
       "      <th>1</th>\n",
       "      <td>-0.008860</td>\n",
       "      <td>0.001807</td>\n",
       "      <td>-0.009377</td>\n",
       "      <td>0.007840</td>\n",
       "      <td>-0.004247</td>\n",
       "      <td>0.003905</td>\n",
       "      <td>-0.004652</td>\n",
       "      <td>-0.002482</td>\n",
       "      <td>0.006690</td>\n",
       "      <td>-0.008111</td>\n",
       "      <td>...</td>\n",
       "      <td>0.000432</td>\n",
       "      <td>0.000952</td>\n",
       "      <td>0.009938</td>\n",
       "      <td>-0.008602</td>\n",
       "      <td>0.001691</td>\n",
       "      <td>-0.006902</td>\n",
       "      <td>0.007096</td>\n",
       "      <td>-0.001237</td>\n",
       "      <td>-0.005594</td>\n",
       "      <td>-0.006466</td>\n",
       "    </tr>\n",
       "    <tr>\n",
       "      <th>2</th>\n",
       "      <td>-0.006742</td>\n",
       "      <td>0.007364</td>\n",
       "      <td>-0.003975</td>\n",
       "      <td>-0.003631</td>\n",
       "      <td>-0.009697</td>\n",
       "      <td>0.009309</td>\n",
       "      <td>-0.009408</td>\n",
       "      <td>-0.000307</td>\n",
       "      <td>0.008672</td>\n",
       "      <td>-0.003531</td>\n",
       "      <td>...</td>\n",
       "      <td>-0.001095</td>\n",
       "      <td>-0.005577</td>\n",
       "      <td>0.009818</td>\n",
       "      <td>-0.009810</td>\n",
       "      <td>-0.007979</td>\n",
       "      <td>0.008825</td>\n",
       "      <td>0.007900</td>\n",
       "      <td>-0.005694</td>\n",
       "      <td>0.004628</td>\n",
       "      <td>0.001962</td>\n",
       "    </tr>\n",
       "    <tr>\n",
       "      <th>3</th>\n",
       "      <td>-0.005029</td>\n",
       "      <td>0.006436</td>\n",
       "      <td>-0.003642</td>\n",
       "      <td>0.003165</td>\n",
       "      <td>0.008926</td>\n",
       "      <td>0.004975</td>\n",
       "      <td>-0.008862</td>\n",
       "      <td>0.006278</td>\n",
       "      <td>-0.008563</td>\n",
       "      <td>-0.004011</td>\n",
       "      <td>...</td>\n",
       "      <td>-0.007517</td>\n",
       "      <td>0.003814</td>\n",
       "      <td>-0.002313</td>\n",
       "      <td>0.001819</td>\n",
       "      <td>0.009003</td>\n",
       "      <td>-0.004308</td>\n",
       "      <td>0.002752</td>\n",
       "      <td>0.003560</td>\n",
       "      <td>-0.002705</td>\n",
       "      <td>-0.006738</td>\n",
       "    </tr>\n",
       "    <tr>\n",
       "      <th>4</th>\n",
       "      <td>0.005114</td>\n",
       "      <td>0.006809</td>\n",
       "      <td>0.005715</td>\n",
       "      <td>0.003077</td>\n",
       "      <td>-0.009306</td>\n",
       "      <td>-0.002909</td>\n",
       "      <td>0.008079</td>\n",
       "      <td>-0.005622</td>\n",
       "      <td>0.000596</td>\n",
       "      <td>-0.004633</td>\n",
       "      <td>...</td>\n",
       "      <td>0.008663</td>\n",
       "      <td>0.005798</td>\n",
       "      <td>0.005405</td>\n",
       "      <td>-0.004258</td>\n",
       "      <td>0.003927</td>\n",
       "      <td>0.006883</td>\n",
       "      <td>-0.007978</td>\n",
       "      <td>0.007714</td>\n",
       "      <td>0.004417</td>\n",
       "      <td>0.008331</td>\n",
       "    </tr>\n",
       "  </tbody>\n",
       "</table>\n",
       "<p>5 rows × 26 columns</p>\n",
       "</div>"
      ],
      "text/plain": [
       "    Arsenal  Aston Villa  Bournemouth  Brighton   Burnley   Chelsea  \\\n",
       "0  0.006524    -0.007546    -0.002282 -0.004149  0.002654 -0.006878   \n",
       "1 -0.008860     0.001807    -0.009377  0.007840 -0.004247  0.003905   \n",
       "2 -0.006742     0.007364    -0.003975 -0.003631 -0.009697  0.009309   \n",
       "3 -0.005029     0.006436    -0.003642  0.003165  0.008926  0.004975   \n",
       "4  0.005114     0.006809     0.005715  0.003077 -0.009306 -0.002909   \n",
       "\n",
       "   Crystal Palace   Everton  Huddersfield      Hull    ...      Norwich  \\\n",
       "0       -0.008261  0.009751      0.003195  0.001499    ...    -0.003738   \n",
       "1       -0.004652 -0.002482      0.006690 -0.008111    ...     0.000432   \n",
       "2       -0.009408 -0.000307      0.008672 -0.003531    ...    -0.001095   \n",
       "3       -0.008862  0.006278     -0.008563 -0.004011    ...    -0.007517   \n",
       "4        0.008079 -0.005622      0.000596 -0.004633    ...     0.008663   \n",
       "\n",
       "        QPR  Southampton     Stoke  Sunderland   Swansea  Tottenham   Watford  \\\n",
       "0 -0.007296     0.008788  0.003515    0.004341  0.009036  -0.001634 -0.001646   \n",
       "1  0.000952     0.009938 -0.008602    0.001691 -0.006902   0.007096 -0.001237   \n",
       "2 -0.005577     0.009818 -0.009810   -0.007979  0.008825   0.007900 -0.005694   \n",
       "3  0.003814    -0.002313  0.001819    0.009003 -0.004308   0.002752  0.003560   \n",
       "4  0.005798     0.005405 -0.004258    0.003927  0.006883  -0.007978  0.007714   \n",
       "\n",
       "   West Brom  West Ham  \n",
       "0   0.003096  0.005937  \n",
       "1  -0.005594 -0.006466  \n",
       "2   0.004628  0.001962  \n",
       "3  -0.002705 -0.006738  \n",
       "4   0.004417  0.008331  \n",
       "\n",
       "[5 rows x 26 columns]"
      ]
     },
     "execution_count": 6,
     "metadata": {},
     "output_type": "execute_result"
    }
   ],
   "source": [
    "em = embedding_matrix(data['HomeTeam'])\n",
    "em.head()"
   ]
  },
  {
   "cell_type": "code",
   "execution_count": 7,
   "metadata": {},
   "outputs": [],
   "source": [
    "#x_data = data.drop(['FTR','FTAG','FTHG'],1)\n",
    "data = normalization(data)\n",
    "x_data = np.column_stack((np.transpose(em[data['HomeTeam']].values),\n",
    "                          np.transpose(em[data['AwayTeam']].values),\n",
    "                          data['B365H'][:,None],\n",
    "                          data['B365D'][:,None],\n",
    "                          data['B365A'][:,None]))\n",
    "y_data = data['FTR']\n",
    "\n",
    "y_data = pd.get_dummies(y_data)\n",
    "\n",
    "#differences = data['FTHG']-data['FTAG']"
   ]
  },
  {
   "cell_type": "code",
   "execution_count": 8,
   "metadata": {},
   "outputs": [
    {
     "data": {
      "text/plain": [
       "(1520, 29)"
      ]
     },
     "execution_count": 8,
     "metadata": {},
     "output_type": "execute_result"
    }
   ],
   "source": [
    "x_data.shape"
   ]
  },
  {
   "cell_type": "code",
   "execution_count": 9,
   "metadata": {},
   "outputs": [
    {
     "data": {
      "text/plain": [
       "array([[ 0.00652387, -0.00885993],\n",
       "       [ 0.0005191 , -0.00142314],\n",
       "       [ 0.00803522,  0.00487009],\n",
       "       ...,\n",
       "       [ 0.00903626, -0.00690173],\n",
       "       [-0.00163394,  0.00709574],\n",
       "       [ 0.00593708, -0.00646601]])"
      ]
     },
     "execution_count": 9,
     "metadata": {},
     "output_type": "execute_result"
    }
   ],
   "source": [
    "# Two first games\n",
    "x_data[:,0:2]"
   ]
  },
  {
   "cell_type": "code",
   "execution_count": 10,
   "metadata": {},
   "outputs": [
    {
     "data": {
      "text/plain": [
       "(1520, 3)"
      ]
     },
     "execution_count": 10,
     "metadata": {},
     "output_type": "execute_result"
    }
   ],
   "source": [
    "y_data.shape"
   ]
  },
  {
   "cell_type": "code",
   "execution_count": 11,
   "metadata": {},
   "outputs": [
    {
     "data": {
      "text/html": [
       "<div>\n",
       "<style scoped>\n",
       "    .dataframe tbody tr th:only-of-type {\n",
       "        vertical-align: middle;\n",
       "    }\n",
       "\n",
       "    .dataframe tbody tr th {\n",
       "        vertical-align: top;\n",
       "    }\n",
       "\n",
       "    .dataframe thead th {\n",
       "        text-align: right;\n",
       "    }\n",
       "</style>\n",
       "<table border=\"1\" class=\"dataframe\">\n",
       "  <thead>\n",
       "    <tr style=\"text-align: right;\">\n",
       "      <th></th>\n",
       "      <th>A</th>\n",
       "      <th>D</th>\n",
       "      <th>H</th>\n",
       "    </tr>\n",
       "  </thead>\n",
       "  <tbody>\n",
       "    <tr>\n",
       "      <th>0</th>\n",
       "      <td>0</td>\n",
       "      <td>0</td>\n",
       "      <td>1</td>\n",
       "    </tr>\n",
       "    <tr>\n",
       "      <th>1</th>\n",
       "      <td>0</td>\n",
       "      <td>1</td>\n",
       "      <td>0</td>\n",
       "    </tr>\n",
       "    <tr>\n",
       "      <th>2</th>\n",
       "      <td>1</td>\n",
       "      <td>0</td>\n",
       "      <td>0</td>\n",
       "    </tr>\n",
       "    <tr>\n",
       "      <th>3</th>\n",
       "      <td>1</td>\n",
       "      <td>0</td>\n",
       "      <td>0</td>\n",
       "    </tr>\n",
       "    <tr>\n",
       "      <th>4</th>\n",
       "      <td>1</td>\n",
       "      <td>0</td>\n",
       "      <td>0</td>\n",
       "    </tr>\n",
       "  </tbody>\n",
       "</table>\n",
       "</div>"
      ],
      "text/plain": [
       "   A  D  H\n",
       "0  0  0  1\n",
       "1  0  1  0\n",
       "2  1  0  0\n",
       "3  1  0  0\n",
       "4  1  0  0"
      ]
     },
     "execution_count": 11,
     "metadata": {},
     "output_type": "execute_result"
    }
   ],
   "source": [
    "y_data.head()"
   ]
  },
  {
   "cell_type": "code",
   "execution_count": 12,
   "metadata": {},
   "outputs": [
    {
     "name": "stdout",
     "output_type": "stream",
     "text": [
      "x_train: (1368, 29)\n",
      "x_valid: (45, 29)\n",
      "x_test: (107, 29)\n"
     ]
    }
   ],
   "source": [
    "train_size = 0.9\n",
    "valid_size = 0.3\n",
    "\n",
    "train_cnt = floor(x_data.shape[0] * train_size)\n",
    "\n",
    "x_train = x_data[0:train_cnt]\n",
    "y_train = y_data.iloc[0:train_cnt].values\n",
    "\n",
    "valid_cnt = floor((x_data.shape[0] - train_cnt) * valid_size)\n",
    "\n",
    "x_valid = x_data[train_cnt:train_cnt+valid_cnt]\n",
    "y_valid = y_data.iloc[train_cnt:train_cnt+valid_cnt].values\n",
    "\n",
    "x_test = x_data[train_cnt+valid_cnt:]\n",
    "y_test = y_data.iloc[train_cnt+valid_cnt:]\n",
    "\n",
    "print(\"x_train:\",x_train.shape)\n",
    "print(\"x_valid:\",x_valid.shape)\n",
    "print(\"x_test:\",x_test.shape)"
   ]
  },
  {
   "cell_type": "code",
   "execution_count": 13,
   "metadata": {},
   "outputs": [],
   "source": [
    "x = tf.placeholder(tf.float32)\n",
    "y = tf.placeholder(tf.float32)"
   ]
  },
  {
   "cell_type": "code",
   "execution_count": 24,
   "metadata": {},
   "outputs": [],
   "source": [
    "# Parameters\n",
    "LEARNING_RATE_STA = 7.5e-2\n",
    "num_epochs = 30\n",
    "batch_size = 128\n",
    "display_step = 5"
   ]
  },
  {
   "cell_type": "code",
   "execution_count": 25,
   "metadata": {},
   "outputs": [],
   "source": [
    "# Network Parameters\n",
    "num_input = x_data.shape[1]\n",
    "num_classes = y_data.shape[1]\n",
    "num_hidden_1 = 50\n",
    "num_hidden_2 = 50\n",
    "num_hidden_3 = 50\n",
    "KEEP_PROB_STA = 0.7"
   ]
  },
  {
   "cell_type": "code",
   "execution_count": 26,
   "metadata": {},
   "outputs": [],
   "source": [
    "def neural_network(x,weights,biases,keep_prob):\n",
    "    layer_1 = tf.add(tf.matmul(x,weights['w1']),biases['b1'])\n",
    "    layer_1 = tf.nn.relu(layer_1)\n",
    "    layer_1 = tf.nn.dropout(layer_1,keep_prob)\n",
    "    \n",
    "    layer_2 = tf.add(tf.matmul(layer_1,weights['w2']),biases['b2'])\n",
    "    layer_2 = tf.nn.relu(layer_2)\n",
    "    layer_2 = tf.nn.dropout(layer_2,keep_prob)\n",
    "    \n",
    "    layer_3 = tf.add(tf.matmul(layer_2,weights['w3']),biases['b3'])\n",
    "    layer_3 = tf.nn.relu(layer_3)\n",
    "    layer_3 = tf.nn.dropout(layer_3,keep_prob)\n",
    "    \n",
    "    layer_out = tf.add(tf.matmul(layer_3, weights['out']), biases['out'])\n",
    "    return layer_out"
   ]
  },
  {
   "cell_type": "code",
   "execution_count": 27,
   "metadata": {},
   "outputs": [],
   "source": [
    "# Store layers weight & bias\n",
    "weights = {\n",
    "    'w1': tf.Variable(tf.random_normal([num_input,num_hidden_1])),\n",
    "    'w2': tf.Variable(tf.random_normal([num_hidden_1,num_hidden_2])),\n",
    "    'w3': tf.Variable(tf.random_normal([num_hidden_2,num_hidden_3])),\n",
    "    'out': tf.Variable(tf.random_normal([num_hidden_3, num_classes]))\n",
    "}\n",
    "\n",
    "biases = {\n",
    "    'b1': tf.Variable(tf.random_normal([num_hidden_1])),\n",
    "    'b2': tf.Variable(tf.random_normal([num_hidden_2])),\n",
    "    'b3': tf.Variable(tf.random_normal([num_hidden_3])),\n",
    "    'out': tf.Variable(tf.random_normal([num_classes]))\n",
    "}\n",
    "\n",
    "keep_prob = tf.placeholder(\"float\")"
   ]
  },
  {
   "cell_type": "code",
   "execution_count": 28,
   "metadata": {},
   "outputs": [],
   "source": [
    "predictions = neural_network(x, weights, biases, keep_prob)\n",
    "cost = tf.reduce_mean(tf.nn.softmax_cross_entropy_with_logits(logits=predictions, labels=y))\n",
    "optimizer = tf.train.AdamOptimizer(learning_rate=LEARNING_RATE_STA).minimize(cost)"
   ]
  },
  {
   "cell_type": "code",
   "execution_count": 29,
   "metadata": {},
   "outputs": [],
   "source": [
    "costs = []\n",
    "lrn_rate_sizes = []"
   ]
  },
  {
   "cell_type": "code",
   "execution_count": 31,
   "metadata": {},
   "outputs": [
    {
     "name": "stdout",
     "output_type": "stream",
     "text": [
      "Train: Epoch: 0005 cost= 88.096752357\n",
      "Valid: Epoch: 0005 cost= 2.994447947\n",
      "Predictions:\n",
      "\n",
      "\n",
      "\n",
      "[2 2 2 2 2 2 2 2 2 2 2 2 2 2 2 2 2 2 2 2 2 2 2 2 2 2 2 2 2 2 2 2 2 2 2 2 2\n",
      " 2 2 2 2 1 2 2 2 2 2 2 1 2 2 2 2 2 2 2 2 1 2 2 2 2 2 2 2 2 2 2 2 2 1 2 1 2\n",
      " 2 2 2 2 2 2 2 2 1 2 2 1 2 2 2 2 2 2 2 2 2 2 2 1 2 2 2 2 2 2 2 2 2]\n",
      "\n",
      "\n",
      "\n",
      "$$$$$$$$$$$$$$$$$$$$$$$$\n",
      "Accuracy: 0.44859812\n",
      "______________________________________\n",
      "Train: Epoch: 0010 cost= 1.082212853\n",
      "Valid: Epoch: 0010 cost= 1.004851699\n",
      "Predictions:\n",
      "\n",
      "\n",
      "\n",
      "[2 2 2 2 2 2 2 2 2 2 2 2 2 2 2 2 2 2 2 2 2 2 2 2 2 2 2 2 2 2 2 2 2 2 2 2 2\n",
      " 2 2 2 2 2 2 2 2 2 2 2 2 2 2 2 2 2 2 2 2 2 2 2 2 2 2 2 2 2 2 2 2 2 2 2 2 2\n",
      " 2 2 2 2 2 2 2 2 2 2 2 2 2 2 2 2 2 2 2 2 2 2 2 2 2 2 2 2 2 2 2 2 2]\n",
      "\n",
      "\n",
      "\n",
      "$$$$$$$$$$$$$$$$$$$$$$$$\n",
      "Accuracy: 0.45794392\n",
      "______________________________________\n",
      "Train: Epoch: 0015 cost= 1.060472327\n",
      "Valid: Epoch: 0015 cost= 1.002155423\n",
      "Predictions:\n",
      "\n",
      "\n",
      "\n",
      "[2 2 2 2 2 2 2 2 2 2 2 2 2 2 2 2 2 2 2 2 2 2 2 2 2 2 2 2 2 2 2 2 2 2 2 2 2\n",
      " 2 2 2 2 2 2 2 2 2 2 2 2 2 2 2 2 2 2 2 2 2 2 2 2 2 2 2 2 2 2 2 2 2 2 2 2 2\n",
      " 2 2 2 2 2 2 2 2 2 2 2 2 2 2 2 2 2 2 2 2 2 2 2 2 2 2 2 2 2 2 2 2 2]\n",
      "\n",
      "\n",
      "\n",
      "$$$$$$$$$$$$$$$$$$$$$$$$\n",
      "Accuracy: 0.45794392\n",
      "______________________________________\n",
      "Train: Epoch: 0020 cost= 1.055918908\n",
      "Valid: Epoch: 0020 cost= 1.005923629\n",
      "Predictions:\n",
      "\n",
      "\n",
      "\n",
      "[2 2 2 2 2 2 2 2 2 2 2 2 2 2 2 2 2 2 2 2 2 2 2 2 2 2 2 2 2 2 2 2 2 2 2 2 2\n",
      " 2 2 2 2 2 2 2 2 2 2 2 2 2 2 2 2 2 2 2 2 2 2 2 2 2 2 2 2 2 2 2 2 2 2 2 2 2\n",
      " 2 2 2 2 2 2 2 2 2 2 2 2 2 2 2 2 2 2 2 2 2 2 2 2 2 2 2 2 2 2 2 2 2]\n",
      "\n",
      "\n",
      "\n",
      "$$$$$$$$$$$$$$$$$$$$$$$$\n",
      "Accuracy: 0.45794392\n",
      "______________________________________\n",
      "Train: Epoch: 0025 cost= 1.041098827\n",
      "Valid: Epoch: 0025 cost= 1.005204320\n",
      "Predictions:\n",
      "\n",
      "\n",
      "\n",
      "[2 2 2 2 2 2 2 2 2 2 2 2 2 2 2 2 2 2 2 2 2 2 2 2 2 2 2 2 2 2 2 2 2 2 2 2 2\n",
      " 2 2 2 2 2 2 2 2 2 2 2 2 2 2 2 2 2 2 2 2 2 2 2 2 2 2 2 2 2 2 2 2 2 2 2 2 2\n",
      " 2 2 2 2 2 2 2 2 2 2 2 2 2 2 2 2 2 2 2 2 2 2 2 2 2 2 2 2 2 2 2 2 2]\n",
      "\n",
      "\n",
      "\n",
      "$$$$$$$$$$$$$$$$$$$$$$$$\n",
      "Accuracy: 0.45794392\n",
      "______________________________________\n",
      "Train: Epoch: 0030 cost= 1.030577189\n",
      "Valid: Epoch: 0030 cost= 0.994828641\n",
      "Predictions:\n",
      "\n",
      "\n",
      "\n",
      "[2 2 2 2 2 2 2 2 2 2 2 2 2 2 2 2 2 2 2 2 2 2 2 2 2 2 0 2 2 2 2 2 2 2 2 2 2\n",
      " 2 2 2 2 2 2 2 2 2 0 2 2 2 2 2 2 2 2 2 2 2 2 2 2 2 2 2 2 2 2 2 2 2 2 2 2 2\n",
      " 2 2 2 2 2 2 2 2 2 2 2 2 2 2 2 2 2 2 2 2 2 2 2 2 2 2 2 2 2 2 2 2 2]\n",
      "\n",
      "\n",
      "\n",
      "$$$$$$$$$$$$$$$$$$$$$$$$\n",
      "Accuracy: 0.47663552\n",
      "______________________________________\n",
      "Optimization Finished!\n",
      "Accuracy: 0.5420561\n"
     ]
    }
   ],
   "source": [
    "with tf.Session() as sess:\n",
    "    sess.run(tf.global_variables_initializer())\n",
    "    \n",
    "    for epoch in range(num_epochs):\n",
    "        avg_cost = 0.0\n",
    "        total_batch = int(len(x_train) / batch_size)\n",
    "        x_batches = np.array_split(x_train, total_batch)\n",
    "        y_batches = np.array_split(y_train, total_batch)\n",
    "        \n",
    "        for i in range(total_batch):\n",
    "            batch_x, batch_y = x_batches[i], y_batches[i]\n",
    "            _, c = sess.run([optimizer, cost], \n",
    "                            feed_dict={\n",
    "                                x: batch_x, \n",
    "                                y: batch_y, \n",
    "                                keep_prob: KEEP_PROB_STA\n",
    "                            })\n",
    "            avg_cost += c / total_batch\n",
    "            \n",
    "        if epoch % display_step == 0:\n",
    "            print(\"Train: Epoch:\", '%04d' % (epoch+display_step), \"cost=\", \"{:.9f}\".format(avg_cost))\n",
    "            _, valid_cost = sess.run([optimizer, cost], feed_dict={x: x_valid, y: y_valid, keep_prob: 1})\n",
    "            print(\"Valid: Epoch:\", '%04d' % (epoch+display_step), \"cost=\", \"{:.9f}\".format(valid_cost))\n",
    "\n",
    "            prediction=tf.argmax(predictions,1)\n",
    "            print(\"Predictions:\")\n",
    "            print(\"\")\n",
    "            print(\"\")\n",
    "            print(\"\")\n",
    "            print(prediction.eval(feed_dict={x: x_test, y: y_test, keep_prob: 1.0}))\n",
    "            print(\"\")\n",
    "            print(\"\")\n",
    "            print(\"\")\n",
    "            print(\"$$$$$$$$$$$$$$$$$$$$$$$$\")\n",
    "            \n",
    "            correct_prediction = tf.equal(tf.argmax(predictions, 1), tf.argmax(y, 1))\n",
    "            accuracy = tf.reduce_mean(tf.cast(correct_prediction, \"float\"))\n",
    "            print(\"Accuracy:\", accuracy.eval({x: x_test, y: y_test, keep_prob: 1.0}))\n",
    "            print(\"______________________________________\")\n",
    "    print(\"Optimization Finished!\")\n",
    "    correct_prediction = tf.equal(tf.argmax(predictions, 1), tf.argmax(y, 1))\n",
    "    accuracy = tf.reduce_mean(tf.cast(correct_prediction, \"float\"))\n",
    "    print(\"Accuracy:\", accuracy.eval({x: x_test, y: y_test, keep_prob: 1.0}))"
   ]
  },
  {
   "cell_type": "code",
   "execution_count": null,
   "metadata": {},
   "outputs": [],
   "source": []
  }
 ],
 "metadata": {
  "kernelspec": {
   "display_name": "Python 3",
   "language": "python",
   "name": "python3"
  },
  "language_info": {
   "codemirror_mode": {
    "name": "ipython",
    "version": 3
   },
   "file_extension": ".py",
   "mimetype": "text/x-python",
   "name": "python",
   "nbconvert_exporter": "python",
   "pygments_lexer": "ipython3",
   "version": "3.6.5"
  }
 },
 "nbformat": 4,
 "nbformat_minor": 2
}
