{
 "cells": [
  {
   "cell_type": "markdown",
   "metadata": {},
   "source": [
    "https://medium.com/@curiousily/tensorflow-for-hackers-part-ii-building-simple-neural-network-2d6779d2f91b"
   ]
  },
  {
   "cell_type": "code",
   "execution_count": null,
   "metadata": {},
   "outputs": [],
   "source": [
    "import pandas as pd\n",
    "from math import floor\n",
    "import tensorflow as tf\n",
    "import numpy as np\n",
    "from sklearn import preprocessing"
   ]
  },
  {
   "cell_type": "code",
   "execution_count": 2,
   "metadata": {},
   "outputs": [],
   "source": [
    "data1 = pd.read_csv('premier_14_15.csv')\n",
    "data2 = pd.read_csv('premier_15_16.csv')\n",
    "data3 = pd.read_csv('premier_16_17.csv')\n",
    "data4 = pd.read_csv('premier_17_18.csv')\n",
    "\n",
    "dataCon = [data1,data2,data3,data4]\n",
    "data = pd.concat(dataCon)"
   ]
  },
  {
   "cell_type": "code",
   "execution_count": 3,
   "metadata": {},
   "outputs": [
    {
     "data": {
      "text/html": [
       "<div>\n",
       "<style scoped>\n",
       "    .dataframe tbody tr th:only-of-type {\n",
       "        vertical-align: middle;\n",
       "    }\n",
       "\n",
       "    .dataframe tbody tr th {\n",
       "        vertical-align: top;\n",
       "    }\n",
       "\n",
       "    .dataframe thead th {\n",
       "        text-align: right;\n",
       "    }\n",
       "</style>\n",
       "<table border=\"1\" class=\"dataframe\">\n",
       "  <thead>\n",
       "    <tr style=\"text-align: right;\">\n",
       "      <th></th>\n",
       "      <th>a</th>\n",
       "      <th>b</th>\n",
       "      <th>c</th>\n",
       "    </tr>\n",
       "  </thead>\n",
       "  <tbody>\n",
       "    <tr>\n",
       "      <th>0</th>\n",
       "      <td>-0.004935</td>\n",
       "      <td>0.002548</td>\n",
       "      <td>-0.004550</td>\n",
       "    </tr>\n",
       "    <tr>\n",
       "      <th>1</th>\n",
       "      <td>0.003464</td>\n",
       "      <td>0.005043</td>\n",
       "      <td>-0.004403</td>\n",
       "    </tr>\n",
       "    <tr>\n",
       "      <th>2</th>\n",
       "      <td>0.009187</td>\n",
       "      <td>0.003748</td>\n",
       "      <td>0.008686</td>\n",
       "    </tr>\n",
       "  </tbody>\n",
       "</table>\n",
       "</div>"
      ],
      "text/plain": [
       "          a         b         c\n",
       "0 -0.004935  0.002548 -0.004550\n",
       "1  0.003464  0.005043 -0.004403\n",
       "2  0.009187  0.003748  0.008686"
      ]
     },
     "execution_count": 3,
     "metadata": {},
     "output_type": "execute_result"
    }
   ],
   "source": [
    "b = np.random.uniform(low=-0.01,high=0.01,size=(3,3))\n",
    "a = pd.DataFrame(b,columns=['a','b','c'])\n",
    "a"
   ]
  },
  {
   "cell_type": "code",
   "execution_count": 4,
   "metadata": {},
   "outputs": [],
   "source": [
    "def normalization(raw_data):\n",
    "    for col_num in range(raw_data.shape[1]):\n",
    "        if raw_data.iloc[:,col_num].dtype == np.float or raw_data.iloc[:,col_num].dtype == np.int:\n",
    "            raw_data.iloc[:,col_num] = (raw_data.iloc[:,col_num] - raw_data.iloc[:,col_num].mean()) / (raw_data.iloc[:,col_num].max() - raw_data.iloc[:,col_num].min())\n",
    "    return raw_data"
   ]
  },
  {
   "cell_type": "code",
   "execution_count": 5,
   "metadata": {},
   "outputs": [],
   "source": [
    "def embedding_matrix(column):\n",
    "    labels = []\n",
    "    embeddings = np.array([])\n",
    "    num_of_uniques = len(np.unique(column))\n",
    "    for i in range(num_of_uniques):\n",
    "        if embeddings.size == 0:\n",
    "            embeddings = np.random.uniform(low=-0.01,high=0.01,size=(min(50,(num_of_uniques+1)//2),1))\n",
    "        else:\n",
    "            embeddings = np.append(embeddings,np.random.uniform(low=-0.01,high=0.01,size=(min(50,(num_of_uniques+1)//2),1)),axis=1)\n",
    "        labels.append(np.unique(column)[i])\n",
    "    print(\"embeddings.shape:\",embeddings.shape)\n",
    "    print(\"labels.shape:\",len(labels))\n",
    "    return pd.DataFrame(data=embeddings,columns=labels)"
   ]
  },
  {
   "cell_type": "code",
   "execution_count": 6,
   "metadata": {},
   "outputs": [
    {
     "name": "stdout",
     "output_type": "stream",
     "text": [
      "embeddings.shape: (13, 26)\n",
      "labels.shape: 26\n"
     ]
    },
    {
     "data": {
      "text/html": [
       "<div>\n",
       "<style scoped>\n",
       "    .dataframe tbody tr th:only-of-type {\n",
       "        vertical-align: middle;\n",
       "    }\n",
       "\n",
       "    .dataframe tbody tr th {\n",
       "        vertical-align: top;\n",
       "    }\n",
       "\n",
       "    .dataframe thead th {\n",
       "        text-align: right;\n",
       "    }\n",
       "</style>\n",
       "<table border=\"1\" class=\"dataframe\">\n",
       "  <thead>\n",
       "    <tr style=\"text-align: right;\">\n",
       "      <th></th>\n",
       "      <th>Arsenal</th>\n",
       "      <th>Aston Villa</th>\n",
       "      <th>Bournemouth</th>\n",
       "      <th>Brighton</th>\n",
       "      <th>Burnley</th>\n",
       "      <th>Chelsea</th>\n",
       "      <th>Crystal Palace</th>\n",
       "      <th>Everton</th>\n",
       "      <th>Huddersfield</th>\n",
       "      <th>Hull</th>\n",
       "      <th>...</th>\n",
       "      <th>Norwich</th>\n",
       "      <th>QPR</th>\n",
       "      <th>Southampton</th>\n",
       "      <th>Stoke</th>\n",
       "      <th>Sunderland</th>\n",
       "      <th>Swansea</th>\n",
       "      <th>Tottenham</th>\n",
       "      <th>Watford</th>\n",
       "      <th>West Brom</th>\n",
       "      <th>West Ham</th>\n",
       "    </tr>\n",
       "  </thead>\n",
       "  <tbody>\n",
       "    <tr>\n",
       "      <th>0</th>\n",
       "      <td>-0.004364</td>\n",
       "      <td>-0.004535</td>\n",
       "      <td>0.000449</td>\n",
       "      <td>-0.006519</td>\n",
       "      <td>0.003545</td>\n",
       "      <td>0.004314</td>\n",
       "      <td>-0.003235</td>\n",
       "      <td>-0.007671</td>\n",
       "      <td>0.007767</td>\n",
       "      <td>0.004150</td>\n",
       "      <td>...</td>\n",
       "      <td>0.000097</td>\n",
       "      <td>-0.005498</td>\n",
       "      <td>0.006047</td>\n",
       "      <td>0.004349</td>\n",
       "      <td>0.005006</td>\n",
       "      <td>-0.003944</td>\n",
       "      <td>-0.007810</td>\n",
       "      <td>-0.002923</td>\n",
       "      <td>-0.005785</td>\n",
       "      <td>0.005636</td>\n",
       "    </tr>\n",
       "    <tr>\n",
       "      <th>1</th>\n",
       "      <td>0.007751</td>\n",
       "      <td>-0.002451</td>\n",
       "      <td>-0.003228</td>\n",
       "      <td>-0.000107</td>\n",
       "      <td>0.000216</td>\n",
       "      <td>-0.001690</td>\n",
       "      <td>-0.009091</td>\n",
       "      <td>-0.002545</td>\n",
       "      <td>0.001061</td>\n",
       "      <td>0.001960</td>\n",
       "      <td>...</td>\n",
       "      <td>0.000992</td>\n",
       "      <td>0.004493</td>\n",
       "      <td>0.004126</td>\n",
       "      <td>0.005838</td>\n",
       "      <td>0.009875</td>\n",
       "      <td>0.002653</td>\n",
       "      <td>0.002558</td>\n",
       "      <td>0.001683</td>\n",
       "      <td>0.006857</td>\n",
       "      <td>0.007785</td>\n",
       "    </tr>\n",
       "    <tr>\n",
       "      <th>2</th>\n",
       "      <td>-0.007168</td>\n",
       "      <td>0.005717</td>\n",
       "      <td>0.005881</td>\n",
       "      <td>-0.008429</td>\n",
       "      <td>0.003524</td>\n",
       "      <td>-0.005608</td>\n",
       "      <td>0.004286</td>\n",
       "      <td>-0.006886</td>\n",
       "      <td>-0.001122</td>\n",
       "      <td>-0.003192</td>\n",
       "      <td>...</td>\n",
       "      <td>0.005820</td>\n",
       "      <td>0.008808</td>\n",
       "      <td>0.000491</td>\n",
       "      <td>0.009841</td>\n",
       "      <td>-0.003581</td>\n",
       "      <td>0.002147</td>\n",
       "      <td>-0.007667</td>\n",
       "      <td>0.002156</td>\n",
       "      <td>0.001814</td>\n",
       "      <td>0.008561</td>\n",
       "    </tr>\n",
       "    <tr>\n",
       "      <th>3</th>\n",
       "      <td>-0.008783</td>\n",
       "      <td>-0.007929</td>\n",
       "      <td>0.000131</td>\n",
       "      <td>-0.001313</td>\n",
       "      <td>0.004686</td>\n",
       "      <td>0.000065</td>\n",
       "      <td>0.005990</td>\n",
       "      <td>0.005486</td>\n",
       "      <td>-0.008769</td>\n",
       "      <td>0.004907</td>\n",
       "      <td>...</td>\n",
       "      <td>0.009400</td>\n",
       "      <td>-0.003534</td>\n",
       "      <td>0.001548</td>\n",
       "      <td>-0.004449</td>\n",
       "      <td>0.007493</td>\n",
       "      <td>-0.003694</td>\n",
       "      <td>0.004089</td>\n",
       "      <td>0.009684</td>\n",
       "      <td>0.005499</td>\n",
       "      <td>0.000218</td>\n",
       "    </tr>\n",
       "    <tr>\n",
       "      <th>4</th>\n",
       "      <td>0.004476</td>\n",
       "      <td>-0.001079</td>\n",
       "      <td>-0.003395</td>\n",
       "      <td>0.002110</td>\n",
       "      <td>-0.009380</td>\n",
       "      <td>0.006157</td>\n",
       "      <td>-0.005553</td>\n",
       "      <td>0.004904</td>\n",
       "      <td>0.003092</td>\n",
       "      <td>0.009887</td>\n",
       "      <td>...</td>\n",
       "      <td>-0.009138</td>\n",
       "      <td>0.003990</td>\n",
       "      <td>-0.002369</td>\n",
       "      <td>-0.004660</td>\n",
       "      <td>0.005852</td>\n",
       "      <td>0.004552</td>\n",
       "      <td>0.007358</td>\n",
       "      <td>-0.004808</td>\n",
       "      <td>0.007657</td>\n",
       "      <td>0.008028</td>\n",
       "    </tr>\n",
       "  </tbody>\n",
       "</table>\n",
       "<p>5 rows × 26 columns</p>\n",
       "</div>"
      ],
      "text/plain": [
       "    Arsenal  Aston Villa  Bournemouth  Brighton   Burnley   Chelsea  \\\n",
       "0 -0.004364    -0.004535     0.000449 -0.006519  0.003545  0.004314   \n",
       "1  0.007751    -0.002451    -0.003228 -0.000107  0.000216 -0.001690   \n",
       "2 -0.007168     0.005717     0.005881 -0.008429  0.003524 -0.005608   \n",
       "3 -0.008783    -0.007929     0.000131 -0.001313  0.004686  0.000065   \n",
       "4  0.004476    -0.001079    -0.003395  0.002110 -0.009380  0.006157   \n",
       "\n",
       "   Crystal Palace   Everton  Huddersfield      Hull    ...      Norwich  \\\n",
       "0       -0.003235 -0.007671      0.007767  0.004150    ...     0.000097   \n",
       "1       -0.009091 -0.002545      0.001061  0.001960    ...     0.000992   \n",
       "2        0.004286 -0.006886     -0.001122 -0.003192    ...     0.005820   \n",
       "3        0.005990  0.005486     -0.008769  0.004907    ...     0.009400   \n",
       "4       -0.005553  0.004904      0.003092  0.009887    ...    -0.009138   \n",
       "\n",
       "        QPR  Southampton     Stoke  Sunderland   Swansea  Tottenham   Watford  \\\n",
       "0 -0.005498     0.006047  0.004349    0.005006 -0.003944  -0.007810 -0.002923   \n",
       "1  0.004493     0.004126  0.005838    0.009875  0.002653   0.002558  0.001683   \n",
       "2  0.008808     0.000491  0.009841   -0.003581  0.002147  -0.007667  0.002156   \n",
       "3 -0.003534     0.001548 -0.004449    0.007493 -0.003694   0.004089  0.009684   \n",
       "4  0.003990    -0.002369 -0.004660    0.005852  0.004552   0.007358 -0.004808   \n",
       "\n",
       "   West Brom  West Ham  \n",
       "0  -0.005785  0.005636  \n",
       "1   0.006857  0.007785  \n",
       "2   0.001814  0.008561  \n",
       "3   0.005499  0.000218  \n",
       "4   0.007657  0.008028  \n",
       "\n",
       "[5 rows x 26 columns]"
      ]
     },
     "execution_count": 6,
     "metadata": {},
     "output_type": "execute_result"
    }
   ],
   "source": [
    "em = embedding_matrix(data['HomeTeam'])\n",
    "em.head()"
   ]
  },
  {
   "cell_type": "code",
   "execution_count": 7,
   "metadata": {},
   "outputs": [],
   "source": [
    "#x_data = data.drop(['FTR','FTAG','FTHG'],1)\n",
    "data = normalization(data)\n",
    "x_data = np.column_stack((np.transpose(em[data['HomeTeam']].values),\n",
    "                          np.transpose(em[data['AwayTeam']].values),\n",
    "                          data['B365H'][:,None],\n",
    "                          data['B365D'][:,None],\n",
    "                          data['B365A'][:,None]))\n",
    "y_data = data['FTR']\n",
    "\n",
    "y_data = pd.get_dummies(y_data)\n",
    "\n",
    "#differences = data['FTHG']-data['FTAG']"
   ]
  },
  {
   "cell_type": "code",
   "execution_count": null,
   "metadata": {},
   "outputs": [],
   "source": [
    "#x_data = data.drop(['FTR','FTAG','FTHG'],1)\n",
    "x_data = np.column_stack((data['B365H'][:,None],\n",
    "                          data['B365D'][:,None],\n",
    "                          data['B365A'][:,None]))\n",
    "y_data = data['FTR']\n",
    "\n",
    "y_data = pd.get_dummies(y_data)\n",
    "\n",
    "#differences = data['FTHG']-data['FTAG']"
   ]
  },
  {
   "cell_type": "code",
   "execution_count": 8,
   "metadata": {},
   "outputs": [
    {
     "data": {
      "text/plain": [
       "(1520, 29)"
      ]
     },
     "execution_count": 8,
     "metadata": {},
     "output_type": "execute_result"
    }
   ],
   "source": [
    "x_data.shape"
   ]
  },
  {
   "cell_type": "code",
   "execution_count": 9,
   "metadata": {},
   "outputs": [
    {
     "data": {
      "text/plain": [
       "array([[-4.36357344e-03,  7.75083481e-03],\n",
       "       [-5.38420681e-06,  7.01560683e-03],\n",
       "       [-4.75052582e-03,  5.27273581e-03],\n",
       "       ...,\n",
       "       [-3.94373079e-03,  2.65290614e-03],\n",
       "       [-7.81034267e-03,  2.55836017e-03],\n",
       "       [ 5.63643997e-03,  7.78462827e-03]])"
      ]
     },
     "execution_count": 9,
     "metadata": {},
     "output_type": "execute_result"
    }
   ],
   "source": [
    "# Two first games\n",
    "x_data[:,0:2]"
   ]
  },
  {
   "cell_type": "code",
   "execution_count": 10,
   "metadata": {},
   "outputs": [
    {
     "data": {
      "text/plain": [
       "(1520, 3)"
      ]
     },
     "execution_count": 10,
     "metadata": {},
     "output_type": "execute_result"
    }
   ],
   "source": [
    "y_data.shape"
   ]
  },
  {
   "cell_type": "code",
   "execution_count": 11,
   "metadata": {},
   "outputs": [
    {
     "data": {
      "text/html": [
       "<div>\n",
       "<style scoped>\n",
       "    .dataframe tbody tr th:only-of-type {\n",
       "        vertical-align: middle;\n",
       "    }\n",
       "\n",
       "    .dataframe tbody tr th {\n",
       "        vertical-align: top;\n",
       "    }\n",
       "\n",
       "    .dataframe thead th {\n",
       "        text-align: right;\n",
       "    }\n",
       "</style>\n",
       "<table border=\"1\" class=\"dataframe\">\n",
       "  <thead>\n",
       "    <tr style=\"text-align: right;\">\n",
       "      <th></th>\n",
       "      <th>A</th>\n",
       "      <th>D</th>\n",
       "      <th>H</th>\n",
       "    </tr>\n",
       "  </thead>\n",
       "  <tbody>\n",
       "    <tr>\n",
       "      <th>0</th>\n",
       "      <td>0</td>\n",
       "      <td>0</td>\n",
       "      <td>1</td>\n",
       "    </tr>\n",
       "    <tr>\n",
       "      <th>1</th>\n",
       "      <td>0</td>\n",
       "      <td>1</td>\n",
       "      <td>0</td>\n",
       "    </tr>\n",
       "    <tr>\n",
       "      <th>2</th>\n",
       "      <td>1</td>\n",
       "      <td>0</td>\n",
       "      <td>0</td>\n",
       "    </tr>\n",
       "    <tr>\n",
       "      <th>3</th>\n",
       "      <td>1</td>\n",
       "      <td>0</td>\n",
       "      <td>0</td>\n",
       "    </tr>\n",
       "    <tr>\n",
       "      <th>4</th>\n",
       "      <td>1</td>\n",
       "      <td>0</td>\n",
       "      <td>0</td>\n",
       "    </tr>\n",
       "  </tbody>\n",
       "</table>\n",
       "</div>"
      ],
      "text/plain": [
       "   A  D  H\n",
       "0  0  0  1\n",
       "1  0  1  0\n",
       "2  1  0  0\n",
       "3  1  0  0\n",
       "4  1  0  0"
      ]
     },
     "execution_count": 11,
     "metadata": {},
     "output_type": "execute_result"
    }
   ],
   "source": [
    "y_data.head()"
   ]
  },
  {
   "cell_type": "code",
   "execution_count": 12,
   "metadata": {},
   "outputs": [
    {
     "name": "stdout",
     "output_type": "stream",
     "text": [
      "x_train: (1368, 29)\n",
      "x_valid: (45, 29)\n",
      "x_test: (107, 29)\n"
     ]
    }
   ],
   "source": [
    "train_size = 0.9\n",
    "valid_size = 0.3\n",
    "\n",
    "train_cnt = floor(x_data.shape[0] * train_size)\n",
    "\n",
    "x_train = x_data[0:train_cnt]\n",
    "y_train = y_data.iloc[0:train_cnt].values\n",
    "\n",
    "valid_cnt = floor((x_data.shape[0] - train_cnt) * valid_size)\n",
    "\n",
    "x_valid = x_data[train_cnt:train_cnt+valid_cnt]\n",
    "y_valid = y_data.iloc[train_cnt:train_cnt+valid_cnt].values\n",
    "\n",
    "x_test = x_data[train_cnt+valid_cnt:]\n",
    "y_test = y_data.iloc[train_cnt+valid_cnt:]\n",
    "\n",
    "print(\"x_train:\",x_train.shape)\n",
    "print(\"x_valid:\",x_valid.shape)\n",
    "print(\"x_test:\",x_test.shape)"
   ]
  },
  {
   "cell_type": "code",
   "execution_count": 13,
   "metadata": {},
   "outputs": [],
   "source": [
    "x = tf.placeholder(tf.float32)\n",
    "y = tf.placeholder(tf.float32)"
   ]
  },
  {
   "cell_type": "code",
   "execution_count": 14,
   "metadata": {},
   "outputs": [],
   "source": [
    "# Parameters\n",
    "ALPHA = 1e-3\n",
    "num_epochs = 50\n",
    "batch_size = 128\n",
    "display_step = 5"
   ]
  },
  {
   "cell_type": "code",
   "execution_count": 15,
   "metadata": {},
   "outputs": [],
   "source": [
    "# Network Parameters\n",
    "num_input = x_data.shape[1]\n",
    "num_classes = y_data.shape[1]\n",
    "num_hidden_1 = 50\n",
    "num_hidden_2 = 50\n",
    "KEEP_PROB_STA = 0.9"
   ]
  },
  {
   "cell_type": "code",
   "execution_count": 16,
   "metadata": {},
   "outputs": [],
   "source": [
    "def neural_network(x,weights,biases,keep_prob):\n",
    "    layer_1 = tf.add(tf.matmul(x,weights['w1']),biases['b1'])\n",
    "    layer_1 = tf.nn.relu(layer_1)\n",
    "    layer_1 = tf.nn.dropout(layer_1,keep_prob)\n",
    "    \n",
    "    layer_2 = tf.add(tf.matmul(layer_1,weights['w2']),biases['b2'])\n",
    "    layer_2 = tf.nn.relu(layer_2)\n",
    "    layer_2 = tf.nn.dropout(layer_2,keep_prob)\n",
    "    \n",
    "    layer_out = tf.add(tf.matmul(layer_2, weights['out']), biases['out'])\n",
    "    return layer_out"
   ]
  },
  {
   "cell_type": "code",
   "execution_count": 17,
   "metadata": {},
   "outputs": [],
   "source": [
    "# Store layers weight & bias\n",
    "weights = {\n",
    "    'w1': tf.Variable(tf.random_normal([num_input,num_hidden_1])),\n",
    "    'w2': tf.Variable(tf.random_normal([num_hidden_1,num_hidden_2])),\n",
    "    'out': tf.Variable(tf.random_normal([num_hidden_2, num_classes]))\n",
    "}\n",
    "\n",
    "biases = {\n",
    "    'b1': tf.Variable(tf.random_normal([num_hidden_1])),\n",
    "    'b2': tf.Variable(tf.random_normal([num_hidden_2])),\n",
    "    'out': tf.Variable(tf.random_normal([num_classes]))\n",
    "}\n",
    "\n",
    "keep_prob = tf.placeholder(\"float\")"
   ]
  },
  {
   "cell_type": "code",
   "execution_count": 18,
   "metadata": {},
   "outputs": [
    {
     "name": "stdout",
     "output_type": "stream",
     "text": [
      "WARNING:tensorflow:From <ipython-input-18-6f270931a56e>:2: softmax_cross_entropy_with_logits (from tensorflow.python.ops.nn_ops) is deprecated and will be removed in a future version.\n",
      "Instructions for updating:\n",
      "\n",
      "Future major versions of TensorFlow will allow gradients to flow\n",
      "into the labels input on backprop by default.\n",
      "\n",
      "See @{tf.nn.softmax_cross_entropy_with_logits_v2}.\n",
      "\n"
     ]
    }
   ],
   "source": [
    "predictions = neural_network(x, weights, biases, keep_prob)\n",
    "cost = tf.reduce_mean(tf.nn.softmax_cross_entropy_with_logits(logits=predictions, labels=y))\n",
    "optimizer = tf.train.AdamOptimizer(learning_rate=LEARNING_RATE_STA).minimize(cost)"
   ]
  },
  {
   "cell_type": "code",
   "execution_count": 19,
   "metadata": {},
   "outputs": [],
   "source": [
    "costs = []\n",
    "lrn_rate_sizes = []"
   ]
  },
  {
   "cell_type": "code",
   "execution_count": 20,
   "metadata": {},
   "outputs": [
    {
     "name": "stdout",
     "output_type": "stream",
     "text": [
      "Train: Epoch: 0005 cost= 10.892515278\n",
      "Valid: Epoch: 0005 cost= 4.052656174\n",
      "Accuracy: 0.42990655\n",
      "______________________________________\n",
      "Train: Epoch: 0010 cost= 8.005325937\n",
      "Valid: Epoch: 0010 cost= 3.773820639\n",
      "Accuracy: 0.5607477\n",
      "______________________________________\n",
      "Train: Epoch: 0015 cost= 7.297330284\n",
      "Valid: Epoch: 0015 cost= 3.338582993\n",
      "Accuracy: 0.5794392\n",
      "______________________________________\n",
      "Train: Epoch: 0020 cost= 6.497834110\n",
      "Valid: Epoch: 0020 cost= 3.189132452\n",
      "Accuracy: 0.5607477\n",
      "______________________________________\n",
      "Train: Epoch: 0025 cost= 5.821731710\n",
      "Valid: Epoch: 0025 cost= 2.694743872\n",
      "Accuracy: 0.5607477\n",
      "______________________________________\n",
      "Train: Epoch: 0030 cost= 5.473375702\n",
      "Valid: Epoch: 0030 cost= 2.208714724\n",
      "Accuracy: 0.5607477\n",
      "______________________________________\n",
      "Train: Epoch: 0035 cost= 4.468893528\n",
      "Valid: Epoch: 0035 cost= 2.375280619\n",
      "Accuracy: 0.55140185\n",
      "______________________________________\n",
      "Train: Epoch: 0040 cost= 4.191141105\n",
      "Valid: Epoch: 0040 cost= 1.991383910\n",
      "Accuracy: 0.55140185\n",
      "______________________________________\n",
      "Train: Epoch: 0045 cost= 3.724491262\n",
      "Valid: Epoch: 0045 cost= 1.681916118\n",
      "Accuracy: 0.5233645\n",
      "______________________________________\n",
      "Train: Epoch: 0050 cost= 3.233192396\n",
      "Valid: Epoch: 0050 cost= 1.567623019\n",
      "Accuracy: 0.5140187\n",
      "______________________________________\n",
      "Optimization Finished!\n",
      "Accuracy: 0.5140187\n"
     ]
    }
   ],
   "source": [
    "with tf.Session() as sess:\n",
    "    sess.run(tf.global_variables_initializer())\n",
    "    \n",
    "    for epoch in range(num_epochs):\n",
    "        avg_cost = 0.0\n",
    "        total_batch = int(len(x_train) / batch_size)\n",
    "        x_batches = np.array_split(x_train, total_batch)\n",
    "        y_batches = np.array_split(y_train, total_batch)\n",
    "        \n",
    "        for i in range(total_batch):\n",
    "            batch_x, batch_y = x_batches[i], y_batches[i]\n",
    "            _, c = sess.run([optimizer, cost], \n",
    "                            feed_dict={\n",
    "                                x: batch_x, \n",
    "                                y: batch_y, \n",
    "                                keep_prob: KEEP_PROBABILITY\n",
    "                            })\n",
    "            avg_cost += c / total_batch\n",
    "            \n",
    "        if epoch % display_step == 0:\n",
    "            print(\"Train: Epoch:\", '%04d' % (epoch+display_step), \"cost=\", \"{:.9f}\".format(avg_cost))\n",
    "            _, valid_cost = sess.run([optimizer, cost], feed_dict={x: x_valid, y: y_valid, keep_prob: 1})\n",
    "            print(\"Valid: Epoch:\", '%04d' % (epoch+display_step), \"cost=\", \"{:.9f}\".format(valid_cost))\n",
    "            \n",
    "            correct_prediction = tf.equal(tf.argmax(predictions, 1), tf.argmax(y, 1))\n",
    "            accuracy = tf.reduce_mean(tf.cast(correct_prediction, \"float\"))\n",
    "            print(\"Accuracy:\", accuracy.eval({x: x_test, y: y_test, keep_prob: 1.0}))\n",
    "            print(\"______________________________________\")\n",
    "    print(\"Optimization Finished!\")\n",
    "    correct_prediction = tf.equal(tf.argmax(predictions, 1), tf.argmax(y, 1))\n",
    "    accuracy = tf.reduce_mean(tf.cast(correct_prediction, \"float\"))\n",
    "    print(\"Accuracy:\", accuracy.eval({x: x_test, y: y_test, keep_prob: 1.0}))"
   ]
  },
  {
   "cell_type": "code",
   "execution_count": null,
   "metadata": {},
   "outputs": [],
   "source": []
  }
 ],
 "metadata": {
  "kernelspec": {
   "display_name": "Python 3",
   "language": "python",
   "name": "python3"
  },
  "language_info": {
   "codemirror_mode": {
    "name": "ipython",
    "version": 3
   },
   "file_extension": ".py",
   "mimetype": "text/x-python",
   "name": "python",
   "nbconvert_exporter": "python",
   "pygments_lexer": "ipython3",
   "version": "3.6.4"
  }
 },
 "nbformat": 4,
 "nbformat_minor": 2
}
