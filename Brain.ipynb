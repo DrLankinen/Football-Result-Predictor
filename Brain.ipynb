{
 "cells": [
  {
   "cell_type": "markdown",
   "metadata": {},
   "source": [
    "https://medium.com/@curiousily/tensorflow-for-hackers-part-ii-building-simple-neural-network-2d6779d2f91b"
   ]
  },
  {
   "cell_type": "code",
   "execution_count": null,
   "metadata": {},
   "outputs": [],
   "source": [
    "import pandas as pd\n",
    "from math import floor\n",
    "import tensorflow as tf\n",
    "import numpy as np\n",
    "from sklearn import preprocessing"
   ]
  },
  {
   "cell_type": "code",
   "execution_count": null,
   "metadata": {},
   "outputs": [],
   "source": [
    "data1 = pd.read_csv('premier_14_15.csv')\n",
    "data2 = pd.read_csv('premier_15_16.csv')\n",
    "data3 = pd.read_csv('premier_16_17.csv')\n",
    "data4 = pd.read_csv('premier_17_18.csv')\n",
    "\n",
    "dataCon = [data1,data2,data3,data4]\n",
    "data = pd.concat(dataCon)"
   ]
  },
  {
   "cell_type": "code",
   "execution_count": null,
   "metadata": {},
   "outputs": [],
   "source": [
    "b = np.random.uniform(low=-0.01,high=0.01,size=(3,3))\n",
    "a = pd.DataFrame(b,columns=['a','b','c'])\n",
    "a"
   ]
  },
  {
   "cell_type": "code",
   "execution_count": null,
   "metadata": {},
   "outputs": [],
   "source": [
    "def normalization(raw_data):\n",
    "    for col_num in range(raw_data.shape[1]):\n",
    "        if raw_data.iloc[:,col_num].dtype == np.float or raw_data.iloc[:,col_num].dtype == np.int:\n",
    "            raw_data.iloc[:,col_num] = (raw_data.iloc[:,col_num] - raw_data.iloc[:,col_num].mean()) / (raw_data.iloc[:,col_num].max() - raw_data.iloc[:,col_num].min())\n",
    "    return raw_data"
   ]
  },
  {
   "cell_type": "code",
   "execution_count": null,
   "metadata": {},
   "outputs": [],
   "source": [
    "def embedding_matrix(column):\n",
    "    labels = []\n",
    "    embeddings = np.array([])\n",
    "    num_of_uniques = len(np.unique(column))\n",
    "    for i in range(num_of_uniques):\n",
    "        if embeddings.size == 0:\n",
    "            embeddings = np.random.uniform(low=-0.01,high=0.01,size=(min(50,(num_of_uniques+1)//2),1))\n",
    "        else:\n",
    "            embeddings = np.append(embeddings,np.random.uniform(low=-0.01,high=0.01,size=(min(50,(num_of_uniques+1)//2),1)),axis=1)\n",
    "        labels.append(np.unique(column)[i])\n",
    "    print(\"embeddings.shape:\",embeddings.shape)\n",
    "    print(\"labels.shape:\",len(labels))\n",
    "    return pd.DataFrame(data=embeddings,columns=labels)"
   ]
  },
  {
   "cell_type": "code",
   "execution_count": null,
   "metadata": {},
   "outputs": [],
   "source": [
    "em = embedding_matrix(data['HomeTeam'])\n",
    "em.head()"
   ]
  },
  {
   "cell_type": "code",
   "execution_count": null,
   "metadata": {},
   "outputs": [],
   "source": [
    "#x_data = data.drop(['FTR','FTAG','FTHG'],1)\n",
    "data = normalization(data)\n",
    "x_data = np.column_stack((np.transpose(em[data['HomeTeam']].values),\n",
    "                          np.transpose(em[data['AwayTeam']].values),\n",
    "                          data['B365H'][:,None],\n",
    "                          data['B365D'][:,None],\n",
    "                          data['B365A'][:,None]))\n",
    "y_data = data['FTR']\n",
    "\n",
    "y_data = pd.get_dummies(y_data)\n",
    "\n",
    "#differences = data['FTHG']-data['FTAG']"
   ]
  },
  {
   "cell_type": "code",
   "execution_count": null,
   "metadata": {},
   "outputs": [],
   "source": [
    "x_data.shape"
   ]
  },
  {
   "cell_type": "code",
   "execution_count": null,
   "metadata": {},
   "outputs": [],
   "source": [
    "# Two first games\n",
    "x_data[:,0:2]"
   ]
  },
  {
   "cell_type": "code",
   "execution_count": null,
   "metadata": {},
   "outputs": [],
   "source": [
    "y_data.shape"
   ]
  },
  {
   "cell_type": "code",
   "execution_count": null,
   "metadata": {},
   "outputs": [],
   "source": [
    "y_data.head()"
   ]
  },
  {
   "cell_type": "code",
   "execution_count": null,
   "metadata": {},
   "outputs": [],
   "source": [
    "train_size = 0.9\n",
    "valid_size = 0.3\n",
    "\n",
    "train_cnt = floor(x_data.shape[0] * train_size)\n",
    "\n",
    "x_train = x_data[0:train_cnt]\n",
    "y_train = y_data.iloc[0:train_cnt].values\n",
    "\n",
    "valid_cnt = floor((x_data.shape[0] - train_cnt) * valid_size)\n",
    "\n",
    "x_valid = x_data[train_cnt:train_cnt+valid_cnt]\n",
    "y_valid = y_data.iloc[train_cnt:train_cnt+valid_cnt].values\n",
    "\n",
    "x_test = x_data[train_cnt+valid_cnt:]\n",
    "y_test = y_data.iloc[train_cnt+valid_cnt:]\n",
    "\n",
    "print(\"x_train:\",x_train.shape)\n",
    "print(\"x_valid:\",x_valid.shape)\n",
    "print(\"x_test:\",x_test.shape)"
   ]
  },
  {
   "cell_type": "code",
   "execution_count": null,
   "metadata": {},
   "outputs": [],
   "source": [
    "x = tf.placeholder(tf.float32)\n",
    "y = tf.placeholder(tf.float32)"
   ]
  },
  {
   "cell_type": "code",
   "execution_count": null,
   "metadata": {},
   "outputs": [],
   "source": [
    "# Parameters\n",
    "LEARNING_RATE_STA = 7.5e-2\n",
    "num_epochs = 30\n",
    "batch_size = 128\n",
    "display_step = 5"
   ]
  },
  {
   "cell_type": "code",
   "execution_count": null,
   "metadata": {},
   "outputs": [],
   "source": [
    "# Network Parameters\n",
    "num_input = x_data.shape[1]\n",
    "num_classes = y_data.shape[1]\n",
    "num_hidden_1 = 50\n",
    "num_hidden_2 = 50\n",
    "num_hidden_3 = 50\n",
    "KEEP_PROB_STA = 0.7"
   ]
  },
  {
   "cell_type": "code",
   "execution_count": null,
   "metadata": {},
   "outputs": [],
   "source": [
    "def neural_network(x,weights,biases,keep_prob):\n",
    "    layer_1 = tf.add(tf.matmul(x,weights['w1']),biases['b1'])\n",
    "    layer_1 = tf.nn.relu(layer_1)\n",
    "    layer_1 = tf.nn.dropout(layer_1,keep_prob)\n",
    "    \n",
    "    layer_2 = tf.add(tf.matmul(layer_1,weights['w2']),biases['b2'])\n",
    "    layer_2 = tf.nn.relu(layer_2)\n",
    "    layer_2 = tf.nn.dropout(layer_2,keep_prob)\n",
    "    \n",
    "    layer_3 = tf.add(tf.matmul(layer_2,weights['w3']),biases['b3'])\n",
    "    layer_3 = tf.nn.relu(layer_3)\n",
    "    layer_3 = tf.nn.dropout(layer_3,keep_prob)\n",
    "    \n",
    "    layer_out = tf.add(tf.matmul(layer_3, weights['out']), biases['out'])\n",
    "    return layer_out"
   ]
  },
  {
   "cell_type": "code",
   "execution_count": null,
   "metadata": {},
   "outputs": [],
   "source": [
    "# Store layers weight & bias\n",
    "weights = {\n",
    "    'w1': tf.Variable(tf.random_normal([num_input,num_hidden_1])),\n",
    "    'w2': tf.Variable(tf.random_normal([num_hidden_1,num_hidden_2])),\n",
    "    'w3': tf.Variable(tf.random_normal([num_hidden_2,num_hidden_3])),\n",
    "    'out': tf.Variable(tf.random_normal([num_hidden_3, num_classes]))\n",
    "}\n",
    "\n",
    "biases = {\n",
    "    'b1': tf.Variable(tf.random_normal([num_hidden_1])),\n",
    "    'b2': tf.Variable(tf.random_normal([num_hidden_2])),\n",
    "    'b3': tf.Variable(tf.random_normal([num_hidden_3])),\n",
    "    'out': tf.Variable(tf.random_normal([num_classes]))\n",
    "}\n",
    "\n",
    "keep_prob = tf.placeholder(\"float\")"
   ]
  },
  {
   "cell_type": "code",
   "execution_count": null,
   "metadata": {},
   "outputs": [],
   "source": [
    "predictions = neural_network(x, weights, biases, keep_prob)\n",
    "cost = tf.reduce_mean(tf.nn.softmax_cross_entropy_with_logits(logits=predictions, labels=y))\n",
    "optimizer = tf.train.AdamOptimizer(learning_rate=LEARNING_RATE_STA).minimize(cost)"
   ]
  },
  {
   "cell_type": "code",
   "execution_count": null,
   "metadata": {},
   "outputs": [],
   "source": [
    "costs = []\n",
    "lrn_rate_sizes = []"
   ]
  },
  {
   "cell_type": "code",
   "execution_count": null,
   "metadata": {},
   "outputs": [],
   "source": [
    "with tf.Session() as sess:\n",
    "    sess.run(tf.global_variables_initializer())\n",
    "    \n",
    "    for epoch in range(num_epochs):\n",
    "        avg_cost = 0.0\n",
    "        total_batch = int(len(x_train) / batch_size)\n",
    "        x_batches = np.array_split(x_train, total_batch)\n",
    "        y_batches = np.array_split(y_train, total_batch)\n",
    "        \n",
    "        for i in range(total_batch):\n",
    "            batch_x, batch_y = x_batches[i], y_batches[i]\n",
    "            _, c = sess.run([optimizer, cost], \n",
    "                            feed_dict={\n",
    "                                x: batch_x, \n",
    "                                y: batch_y, \n",
    "                                keep_prob: KEEP_PROB_STA\n",
    "                            })\n",
    "            avg_cost += c / total_batch\n",
    "            \n",
    "        if epoch % display_step == 0:\n",
    "            print(\"Train: Epoch:\", '%04d' % (epoch+display_step), \"cost=\", \"{:.9f}\".format(avg_cost))\n",
    "            _, valid_cost = sess.run([optimizer, cost], feed_dict={x: x_valid, y: y_valid, keep_prob: 1})\n",
    "            print(\"Valid: Epoch:\", '%04d' % (epoch+display_step), \"cost=\", \"{:.9f}\".format(valid_cost))\n",
    "\n",
    "            prediction=tf.argmax(predictions,1)\n",
    "            print(\"Predictions:\")\n",
    "            print(\"\")\n",
    "            print(\"\")\n",
    "            print(\"\")\n",
    "            print(prediction.eval(feed_dict={x: x_test, y: y_test, keep_prob: 1.0}))\n",
    "            print(\"\")\n",
    "            print(\"\")\n",
    "            print(\"\")\n",
    "            print(\"$$$$$$$$$$$$$$$$$$$$$$$$\")\n",
    "            \n",
    "            correct_prediction = tf.equal(tf.argmax(predictions, 1), tf.argmax(y, 1))\n",
    "            accuracy = tf.reduce_mean(tf.cast(correct_prediction, \"float\"))\n",
    "            print(\"Accuracy:\", accuracy.eval({x: x_test, y: y_test, keep_prob: 1.0}))\n",
    "            print(\"______________________________________\")\n",
    "    print(\"Optimization Finished!\")\n",
    "    correct_prediction = tf.equal(tf.argmax(predictions, 1), tf.argmax(y, 1))\n",
    "    accuracy = tf.reduce_mean(tf.cast(correct_prediction, \"float\"))\n",
    "    print(\"Accuracy:\", accuracy.eval({x: x_test, y: y_test, keep_prob: 1.0}))"
   ]
  },
  {
   "cell_type": "code",
   "execution_count": null,
   "metadata": {},
   "outputs": [],
   "source": []
  }
 ],
 "metadata": {
  "kernelspec": {
   "display_name": "Python 3",
   "language": "python",
   "name": "python3"
  },
  "language_info": {
   "codemirror_mode": {
    "name": "ipython",
    "version": 3
   },
   "file_extension": ".py",
   "mimetype": "text/x-python",
   "name": "python",
   "nbconvert_exporter": "python",
   "pygments_lexer": "ipython3",
   "version": "3.6.4"
  }
 },
 "nbformat": 4,
 "nbformat_minor": 2
}
