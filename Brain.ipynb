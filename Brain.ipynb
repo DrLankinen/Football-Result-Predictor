{
 "cells": [
  {
   "cell_type": "markdown",
   "metadata": {},
   "source": [
    "https://medium.com/@curiousily/tensorflow-for-hackers-part-ii-building-simple-neural-network-2d6779d2f91b"
   ]
  },
  {
   "cell_type": "code",
   "execution_count": null,
   "metadata": {},
   "outputs": [],
   "source": [
    "import pandas as pd\n",
    "from math import floor\n",
    "import tensorflow as tf\n",
    "import numpy as np\n",
    "from sklearn import preprocessing"
   ]
  },
  {
   "cell_type": "code",
   "execution_count": 2,
   "metadata": {},
   "outputs": [],
   "source": [
    "data1 = pd.read_csv('premier_14_15.csv')\n",
    "data2 = pd.read_csv('premier_15_16.csv')\n",
    "data3 = pd.read_csv('premier_16_17.csv')\n",
    "data4 = pd.read_csv('premier_17_18.csv')\n",
    "\n",
    "dataCon = [data1,data2,data3,data4]\n",
    "data = pd.concat(dataCon)"
   ]
  },
  {
   "cell_type": "code",
   "execution_count": 3,
   "metadata": {},
   "outputs": [
    {
     "data": {
      "text/html": [
       "<div>\n",
       "<style scoped>\n",
       "    .dataframe tbody tr th:only-of-type {\n",
       "        vertical-align: middle;\n",
       "    }\n",
       "\n",
       "    .dataframe tbody tr th {\n",
       "        vertical-align: top;\n",
       "    }\n",
       "\n",
       "    .dataframe thead th {\n",
       "        text-align: right;\n",
       "    }\n",
       "</style>\n",
       "<table border=\"1\" class=\"dataframe\">\n",
       "  <thead>\n",
       "    <tr style=\"text-align: right;\">\n",
       "      <th></th>\n",
       "      <th>a</th>\n",
       "      <th>b</th>\n",
       "      <th>c</th>\n",
       "    </tr>\n",
       "  </thead>\n",
       "  <tbody>\n",
       "    <tr>\n",
       "      <th>0</th>\n",
       "      <td>-0.008541</td>\n",
       "      <td>0.000080</td>\n",
       "      <td>-0.005617</td>\n",
       "    </tr>\n",
       "    <tr>\n",
       "      <th>1</th>\n",
       "      <td>0.001229</td>\n",
       "      <td>-0.001305</td>\n",
       "      <td>-0.005408</td>\n",
       "    </tr>\n",
       "    <tr>\n",
       "      <th>2</th>\n",
       "      <td>-0.008288</td>\n",
       "      <td>-0.000809</td>\n",
       "      <td>-0.005732</td>\n",
       "    </tr>\n",
       "  </tbody>\n",
       "</table>\n",
       "</div>"
      ],
      "text/plain": [
       "          a         b         c\n",
       "0 -0.008541  0.000080 -0.005617\n",
       "1  0.001229 -0.001305 -0.005408\n",
       "2 -0.008288 -0.000809 -0.005732"
      ]
     },
     "execution_count": 3,
     "metadata": {},
     "output_type": "execute_result"
    }
   ],
   "source": [
    "b = np.random.uniform(low=-0.01,high=0.01,size=(3,3))\n",
    "a = pd.DataFrame(b,columns=['a','b','c'])\n",
    "a"
   ]
  },
  {
   "cell_type": "code",
   "execution_count": 4,
   "metadata": {},
   "outputs": [],
   "source": [
    "def normalization(raw_data):\n",
    "    for col_num in range(raw_data.shape[1]):\n",
    "        if raw_data.iloc[:,col_num].dtype == np.float or raw_data.iloc[:,col_num].dtype == np.int:\n",
    "            raw_data.iloc[:,col_num] = (raw_data.iloc[:,col_num] - raw_data.iloc[:,col_num].mean()) / (raw_data.iloc[:,col_num].max() - raw_data.iloc[:,col_num].min())\n",
    "    return raw_data"
   ]
  },
  {
   "cell_type": "code",
   "execution_count": 5,
   "metadata": {},
   "outputs": [],
   "source": [
    "def embedding_matrix(column):\n",
    "    labels = []\n",
    "    embeddings = np.array([])\n",
    "    num_of_uniques = len(np.unique(column))\n",
    "    for i in range(num_of_uniques):\n",
    "        if embeddings.size == 0:\n",
    "            embeddings = np.random.uniform(low=-0.01,high=0.01,size=(min(50,(num_of_uniques+1)//2),1))\n",
    "        else:\n",
    "            embeddings = np.append(embeddings,np.random.uniform(low=-0.01,high=0.01,size=(min(50,(num_of_uniques+1)//2),1)),axis=1)\n",
    "        labels.append(np.unique(column)[i])\n",
    "    print(\"embeddings.shape:\",embeddings.shape)\n",
    "    print(\"labels.shape:\",len(labels))\n",
    "    return pd.DataFrame(data=embeddings,columns=labels)"
   ]
  },
  {
   "cell_type": "code",
   "execution_count": 6,
   "metadata": {},
   "outputs": [
    {
     "name": "stdout",
     "output_type": "stream",
     "text": [
      "embeddings.shape: (13, 26)\n",
      "labels.shape: 26\n"
     ]
    },
    {
     "data": {
      "text/html": [
       "<div>\n",
       "<style scoped>\n",
       "    .dataframe tbody tr th:only-of-type {\n",
       "        vertical-align: middle;\n",
       "    }\n",
       "\n",
       "    .dataframe tbody tr th {\n",
       "        vertical-align: top;\n",
       "    }\n",
       "\n",
       "    .dataframe thead th {\n",
       "        text-align: right;\n",
       "    }\n",
       "</style>\n",
       "<table border=\"1\" class=\"dataframe\">\n",
       "  <thead>\n",
       "    <tr style=\"text-align: right;\">\n",
       "      <th></th>\n",
       "      <th>Arsenal</th>\n",
       "      <th>Aston Villa</th>\n",
       "      <th>Bournemouth</th>\n",
       "      <th>Brighton</th>\n",
       "      <th>Burnley</th>\n",
       "      <th>Chelsea</th>\n",
       "      <th>Crystal Palace</th>\n",
       "      <th>Everton</th>\n",
       "      <th>Huddersfield</th>\n",
       "      <th>Hull</th>\n",
       "      <th>...</th>\n",
       "      <th>Norwich</th>\n",
       "      <th>QPR</th>\n",
       "      <th>Southampton</th>\n",
       "      <th>Stoke</th>\n",
       "      <th>Sunderland</th>\n",
       "      <th>Swansea</th>\n",
       "      <th>Tottenham</th>\n",
       "      <th>Watford</th>\n",
       "      <th>West Brom</th>\n",
       "      <th>West Ham</th>\n",
       "    </tr>\n",
       "  </thead>\n",
       "  <tbody>\n",
       "    <tr>\n",
       "      <th>0</th>\n",
       "      <td>0.001590</td>\n",
       "      <td>-0.004891</td>\n",
       "      <td>0.003323</td>\n",
       "      <td>0.007017</td>\n",
       "      <td>-0.001090</td>\n",
       "      <td>0.009396</td>\n",
       "      <td>0.005551</td>\n",
       "      <td>0.000422</td>\n",
       "      <td>0.002859</td>\n",
       "      <td>0.008952</td>\n",
       "      <td>...</td>\n",
       "      <td>0.009745</td>\n",
       "      <td>0.002418</td>\n",
       "      <td>0.004941</td>\n",
       "      <td>0.000185</td>\n",
       "      <td>-0.006953</td>\n",
       "      <td>-0.008540</td>\n",
       "      <td>-0.006345</td>\n",
       "      <td>0.007370</td>\n",
       "      <td>-0.005609</td>\n",
       "      <td>-0.003167</td>\n",
       "    </tr>\n",
       "    <tr>\n",
       "      <th>1</th>\n",
       "      <td>0.005887</td>\n",
       "      <td>0.004213</td>\n",
       "      <td>0.000498</td>\n",
       "      <td>-0.002223</td>\n",
       "      <td>0.004186</td>\n",
       "      <td>-0.007770</td>\n",
       "      <td>0.006134</td>\n",
       "      <td>-0.006477</td>\n",
       "      <td>0.005590</td>\n",
       "      <td>0.006993</td>\n",
       "      <td>...</td>\n",
       "      <td>0.003250</td>\n",
       "      <td>-0.008823</td>\n",
       "      <td>-0.006330</td>\n",
       "      <td>-0.001342</td>\n",
       "      <td>-0.002282</td>\n",
       "      <td>0.001700</td>\n",
       "      <td>0.006963</td>\n",
       "      <td>0.005683</td>\n",
       "      <td>-0.001092</td>\n",
       "      <td>0.007153</td>\n",
       "    </tr>\n",
       "    <tr>\n",
       "      <th>2</th>\n",
       "      <td>-0.009216</td>\n",
       "      <td>0.006366</td>\n",
       "      <td>-0.008589</td>\n",
       "      <td>-0.007370</td>\n",
       "      <td>-0.009598</td>\n",
       "      <td>0.003301</td>\n",
       "      <td>-0.002124</td>\n",
       "      <td>-0.003433</td>\n",
       "      <td>-0.008858</td>\n",
       "      <td>0.006337</td>\n",
       "      <td>...</td>\n",
       "      <td>-0.005757</td>\n",
       "      <td>0.007096</td>\n",
       "      <td>-0.008579</td>\n",
       "      <td>0.002129</td>\n",
       "      <td>-0.006301</td>\n",
       "      <td>-0.003821</td>\n",
       "      <td>0.005474</td>\n",
       "      <td>0.005867</td>\n",
       "      <td>-0.008017</td>\n",
       "      <td>-0.000285</td>\n",
       "    </tr>\n",
       "    <tr>\n",
       "      <th>3</th>\n",
       "      <td>-0.007318</td>\n",
       "      <td>0.007023</td>\n",
       "      <td>0.002411</td>\n",
       "      <td>0.008953</td>\n",
       "      <td>0.002512</td>\n",
       "      <td>0.001036</td>\n",
       "      <td>-0.006038</td>\n",
       "      <td>-0.001937</td>\n",
       "      <td>-0.001351</td>\n",
       "      <td>0.006068</td>\n",
       "      <td>...</td>\n",
       "      <td>-0.006099</td>\n",
       "      <td>-0.005628</td>\n",
       "      <td>-0.003683</td>\n",
       "      <td>0.001746</td>\n",
       "      <td>0.004723</td>\n",
       "      <td>0.006565</td>\n",
       "      <td>0.007207</td>\n",
       "      <td>-0.007662</td>\n",
       "      <td>-0.002428</td>\n",
       "      <td>-0.002846</td>\n",
       "    </tr>\n",
       "    <tr>\n",
       "      <th>4</th>\n",
       "      <td>0.006347</td>\n",
       "      <td>0.007581</td>\n",
       "      <td>-0.008103</td>\n",
       "      <td>-0.001990</td>\n",
       "      <td>-0.002739</td>\n",
       "      <td>-0.008141</td>\n",
       "      <td>0.000023</td>\n",
       "      <td>-0.001402</td>\n",
       "      <td>-0.009501</td>\n",
       "      <td>-0.005459</td>\n",
       "      <td>...</td>\n",
       "      <td>-0.007385</td>\n",
       "      <td>-0.005175</td>\n",
       "      <td>-0.004032</td>\n",
       "      <td>-0.001858</td>\n",
       "      <td>0.002595</td>\n",
       "      <td>-0.007370</td>\n",
       "      <td>-0.008091</td>\n",
       "      <td>-0.006911</td>\n",
       "      <td>0.005912</td>\n",
       "      <td>-0.003664</td>\n",
       "    </tr>\n",
       "  </tbody>\n",
       "</table>\n",
       "<p>5 rows × 26 columns</p>\n",
       "</div>"
      ],
      "text/plain": [
       "    Arsenal  Aston Villa  Bournemouth  Brighton   Burnley   Chelsea  \\\n",
       "0  0.001590    -0.004891     0.003323  0.007017 -0.001090  0.009396   \n",
       "1  0.005887     0.004213     0.000498 -0.002223  0.004186 -0.007770   \n",
       "2 -0.009216     0.006366    -0.008589 -0.007370 -0.009598  0.003301   \n",
       "3 -0.007318     0.007023     0.002411  0.008953  0.002512  0.001036   \n",
       "4  0.006347     0.007581    -0.008103 -0.001990 -0.002739 -0.008141   \n",
       "\n",
       "   Crystal Palace   Everton  Huddersfield      Hull    ...      Norwich  \\\n",
       "0        0.005551  0.000422      0.002859  0.008952    ...     0.009745   \n",
       "1        0.006134 -0.006477      0.005590  0.006993    ...     0.003250   \n",
       "2       -0.002124 -0.003433     -0.008858  0.006337    ...    -0.005757   \n",
       "3       -0.006038 -0.001937     -0.001351  0.006068    ...    -0.006099   \n",
       "4        0.000023 -0.001402     -0.009501 -0.005459    ...    -0.007385   \n",
       "\n",
       "        QPR  Southampton     Stoke  Sunderland   Swansea  Tottenham   Watford  \\\n",
       "0  0.002418     0.004941  0.000185   -0.006953 -0.008540  -0.006345  0.007370   \n",
       "1 -0.008823    -0.006330 -0.001342   -0.002282  0.001700   0.006963  0.005683   \n",
       "2  0.007096    -0.008579  0.002129   -0.006301 -0.003821   0.005474  0.005867   \n",
       "3 -0.005628    -0.003683  0.001746    0.004723  0.006565   0.007207 -0.007662   \n",
       "4 -0.005175    -0.004032 -0.001858    0.002595 -0.007370  -0.008091 -0.006911   \n",
       "\n",
       "   West Brom  West Ham  \n",
       "0  -0.005609 -0.003167  \n",
       "1  -0.001092  0.007153  \n",
       "2  -0.008017 -0.000285  \n",
       "3  -0.002428 -0.002846  \n",
       "4   0.005912 -0.003664  \n",
       "\n",
       "[5 rows x 26 columns]"
      ]
     },
     "execution_count": 6,
     "metadata": {},
     "output_type": "execute_result"
    }
   ],
   "source": [
    "em = embedding_matrix(data['HomeTeam'])\n",
    "em.head()"
   ]
  },
  {
   "cell_type": "code",
   "execution_count": 9,
   "metadata": {},
   "outputs": [],
   "source": [
    "#x_data = data.drop(['FTR','FTAG','FTHG'],1)\n",
    "data = normalization(data)\n",
    "x_data = np.column_stack((np.transpose(em[data['HomeTeam']].values),\n",
    "                          np.transpose(em[data['AwayTeam']].values),\n",
    "                          data['B365H'][:,None],\n",
    "                          data['B365D'][:,None],\n",
    "                          data['B365A'][:,None]))\n",
    "y_data = data['FTR']\n",
    "\n",
    "y_data = pd.get_dummies(y_data)\n",
    "\n",
    "#differences = data['FTHG']-data['FTAG']"
   ]
  },
  {
   "cell_type": "code",
   "execution_count": 8,
   "metadata": {},
   "outputs": [],
   "source": [
    "#x_data = data.drop(['FTR','FTAG','FTHG'],1)\n",
    "x_data = np.column_stack((data['B365H'][:,None],\n",
    "                          data['B365D'][:,None],\n",
    "                          data['B365A'][:,None]))\n",
    "y_data = data['FTR']\n",
    "\n",
    "y_data = pd.get_dummies(y_data)\n",
    "\n",
    "#differences = data['FTHG']-data['FTAG']"
   ]
  },
  {
   "cell_type": "code",
   "execution_count": 10,
   "metadata": {},
   "outputs": [
    {
     "data": {
      "text/plain": [
       "(1520, 29)"
      ]
     },
     "execution_count": 10,
     "metadata": {},
     "output_type": "execute_result"
    }
   ],
   "source": [
    "x_data.shape"
   ]
  },
  {
   "cell_type": "code",
   "execution_count": 11,
   "metadata": {},
   "outputs": [
    {
     "data": {
      "text/plain": [
       "array([[ 0.00159047,  0.00588698],\n",
       "       [ 0.00127791, -0.00777876],\n",
       "       [-0.00735872, -0.00749324],\n",
       "       ...,\n",
       "       [-0.00853983,  0.00170008],\n",
       "       [-0.00634513,  0.00696253],\n",
       "       [-0.00316654,  0.00715321]])"
      ]
     },
     "execution_count": 11,
     "metadata": {},
     "output_type": "execute_result"
    }
   ],
   "source": [
    "# Two first games\n",
    "x_data[:,0:2]"
   ]
  },
  {
   "cell_type": "code",
   "execution_count": 12,
   "metadata": {},
   "outputs": [
    {
     "data": {
      "text/plain": [
       "(1520, 3)"
      ]
     },
     "execution_count": 12,
     "metadata": {},
     "output_type": "execute_result"
    }
   ],
   "source": [
    "y_data.shape"
   ]
  },
  {
   "cell_type": "code",
   "execution_count": 13,
   "metadata": {},
   "outputs": [
    {
     "data": {
      "text/html": [
       "<div>\n",
       "<style scoped>\n",
       "    .dataframe tbody tr th:only-of-type {\n",
       "        vertical-align: middle;\n",
       "    }\n",
       "\n",
       "    .dataframe tbody tr th {\n",
       "        vertical-align: top;\n",
       "    }\n",
       "\n",
       "    .dataframe thead th {\n",
       "        text-align: right;\n",
       "    }\n",
       "</style>\n",
       "<table border=\"1\" class=\"dataframe\">\n",
       "  <thead>\n",
       "    <tr style=\"text-align: right;\">\n",
       "      <th></th>\n",
       "      <th>A</th>\n",
       "      <th>D</th>\n",
       "      <th>H</th>\n",
       "    </tr>\n",
       "  </thead>\n",
       "  <tbody>\n",
       "    <tr>\n",
       "      <th>0</th>\n",
       "      <td>0</td>\n",
       "      <td>0</td>\n",
       "      <td>1</td>\n",
       "    </tr>\n",
       "    <tr>\n",
       "      <th>1</th>\n",
       "      <td>0</td>\n",
       "      <td>1</td>\n",
       "      <td>0</td>\n",
       "    </tr>\n",
       "    <tr>\n",
       "      <th>2</th>\n",
       "      <td>1</td>\n",
       "      <td>0</td>\n",
       "      <td>0</td>\n",
       "    </tr>\n",
       "    <tr>\n",
       "      <th>3</th>\n",
       "      <td>1</td>\n",
       "      <td>0</td>\n",
       "      <td>0</td>\n",
       "    </tr>\n",
       "    <tr>\n",
       "      <th>4</th>\n",
       "      <td>1</td>\n",
       "      <td>0</td>\n",
       "      <td>0</td>\n",
       "    </tr>\n",
       "  </tbody>\n",
       "</table>\n",
       "</div>"
      ],
      "text/plain": [
       "   A  D  H\n",
       "0  0  0  1\n",
       "1  0  1  0\n",
       "2  1  0  0\n",
       "3  1  0  0\n",
       "4  1  0  0"
      ]
     },
     "execution_count": 13,
     "metadata": {},
     "output_type": "execute_result"
    }
   ],
   "source": [
    "y_data.head()"
   ]
  },
  {
   "cell_type": "code",
   "execution_count": 14,
   "metadata": {},
   "outputs": [
    {
     "name": "stdout",
     "output_type": "stream",
     "text": [
      "x_train: (1368, 29)\n",
      "x_valid: (45, 29)\n",
      "x_test: (107, 29)\n"
     ]
    }
   ],
   "source": [
    "train_size = 0.9\n",
    "valid_size = 0.3\n",
    "\n",
    "train_cnt = floor(x_data.shape[0] * train_size)\n",
    "\n",
    "x_train = x_data[0:train_cnt]\n",
    "y_train = y_data.iloc[0:train_cnt].values\n",
    "\n",
    "valid_cnt = floor((x_data.shape[0] - train_cnt) * valid_size)\n",
    "\n",
    "x_valid = x_data[train_cnt:train_cnt+valid_cnt]\n",
    "y_valid = y_data.iloc[train_cnt:train_cnt+valid_cnt].values\n",
    "\n",
    "x_test = x_data[train_cnt+valid_cnt:]\n",
    "y_test = y_data.iloc[train_cnt+valid_cnt:]\n",
    "\n",
    "print(\"x_train:\",x_train.shape)\n",
    "print(\"x_valid:\",x_valid.shape)\n",
    "print(\"x_test:\",x_test.shape)"
   ]
  },
  {
   "cell_type": "code",
   "execution_count": 15,
   "metadata": {},
   "outputs": [],
   "source": [
    "x = tf.placeholder(tf.float32)\n",
    "y = tf.placeholder(tf.float32)"
   ]
  },
  {
   "cell_type": "code",
   "execution_count": 16,
   "metadata": {},
   "outputs": [],
   "source": [
    "# Parameters\n",
    "ALPHA = 1e-3\n",
    "num_epochs = 50\n",
    "batch_size = 128\n",
    "display_step = 5"
   ]
  },
  {
   "cell_type": "code",
   "execution_count": 24,
   "metadata": {},
   "outputs": [],
   "source": [
    "# Network Parameters\n",
    "num_input = x_data.shape[1]\n",
    "num_classes = y_data.shape[1]\n",
    "num_hidden_1 = 50\n",
    "num_hidden_2 = 50\n",
    "KEEP_PROBABILITY = 0.9"
   ]
  },
  {
   "cell_type": "code",
   "execution_count": 25,
   "metadata": {},
   "outputs": [],
   "source": [
    "def neural_network(x,weights,biases,keep_prob):\n",
    "    layer_1 = tf.add(tf.matmul(x,weights['w1']),biases['b1'])\n",
    "    layer_1 = tf.nn.relu(layer_1)\n",
    "    layer_1 = tf.nn.dropout(layer_1,keep_prob)\n",
    "    \n",
    "    layer_2 = tf.add(tf.matmul(layer_1,weights['w2']),biases['b2'])\n",
    "    layer_2 = tf.nn.relu(layer_2)\n",
    "    layer_2 = tf.nn.dropout(layer_2,keep_prob)\n",
    "    \n",
    "    layer_out = tf.add(tf.matmul(layer_2, weights['out']), biases['out'])\n",
    "    return layer_out"
   ]
  },
  {
   "cell_type": "code",
   "execution_count": 26,
   "metadata": {},
   "outputs": [],
   "source": [
    "# Store layers weight & bias\n",
    "weights = {\n",
    "    'w1': tf.Variable(tf.random_normal([num_input,num_hidden_1])),\n",
    "    'w2': tf.Variable(tf.random_normal([num_hidden_1,num_hidden_2])),\n",
    "    'out': tf.Variable(tf.random_normal([num_hidden_2, num_classes]))\n",
    "}\n",
    "\n",
    "biases = {\n",
    "    'b1': tf.Variable(tf.random_normal([num_hidden_1])),\n",
    "    'b2': tf.Variable(tf.random_normal([num_hidden_2])),\n",
    "    'out': tf.Variable(tf.random_normal([num_classes]))\n",
    "}\n",
    "\n",
    "keep_prob = tf.placeholder(\"float\")"
   ]
  },
  {
   "cell_type": "code",
   "execution_count": 27,
   "metadata": {},
   "outputs": [],
   "source": [
    "predictions = neural_network(x, weights, biases, keep_prob)\n",
    "cost = tf.reduce_mean(tf.nn.softmax_cross_entropy_with_logits(logits=predictions, labels=y))\n",
    "optimizer = tf.train.AdamOptimizer(learning_rate=ALPHA).minimize(cost)"
   ]
  },
  {
   "cell_type": "code",
   "execution_count": 28,
   "metadata": {},
   "outputs": [],
   "source": [
    "costs = []\n",
    "lrn_rate_sizes = []"
   ]
  },
  {
   "cell_type": "code",
   "execution_count": 36,
   "metadata": {},
   "outputs": [
    {
     "name": "stdout",
     "output_type": "stream",
     "text": [
      "Train: Epoch: 0005 cost= 23.658637047\n",
      "Valid: Epoch: 0005 cost= 14.660253525\n",
      "Predictions: [2 2 2 2 2 2 2 2 2 2]\n",
      "Accuracy: 0.45794392\n",
      "______________________________________\n",
      "Train: Epoch: 0010 cost= 10.127031946\n",
      "Valid: Epoch: 0010 cost= 3.669965506\n",
      "Predictions: [2 2 2 2 2 2 2 2 2 2]\n",
      "Accuracy: 0.47663552\n",
      "______________________________________\n",
      "Train: Epoch: 0015 cost= 5.159888792\n",
      "Valid: Epoch: 0015 cost= 3.029505491\n",
      "Predictions: [2 2 1 2 0 2 0 2 2 2]\n",
      "Accuracy: 0.5233645\n",
      "______________________________________\n",
      "Train: Epoch: 0020 cost= 4.547799873\n",
      "Valid: Epoch: 0020 cost= 2.352024555\n",
      "Predictions: [2 2 2 2 0 2 0 2 2 2]\n",
      "Accuracy: 0.55140185\n",
      "______________________________________\n",
      "Train: Epoch: 0025 cost= 4.034049439\n",
      "Valid: Epoch: 0025 cost= 2.002253294\n",
      "Predictions: [2 2 1 2 0 2 0 2 2 2]\n",
      "Accuracy: 0.49532712\n",
      "______________________________________\n",
      "Train: Epoch: 0030 cost= 3.919442439\n",
      "Valid: Epoch: 0030 cost= 1.969116926\n",
      "Predictions: [2 2 0 2 0 0 0 1 2 2]\n",
      "Accuracy: 0.48598132\n",
      "______________________________________\n",
      "Train: Epoch: 0035 cost= 3.628305531\n",
      "Valid: Epoch: 0035 cost= 2.015482187\n",
      "Predictions: [2 2 0 2 0 0 0 0 2 2]\n",
      "Accuracy: 0.5140187\n",
      "______________________________________\n",
      "Train: Epoch: 0040 cost= 3.283863854\n",
      "Valid: Epoch: 0040 cost= 1.967125297\n",
      "Predictions: [2 2 0 2 0 0 0 0 2 2]\n",
      "Accuracy: 0.5233645\n",
      "______________________________________\n",
      "Train: Epoch: 0045 cost= 2.991525197\n",
      "Valid: Epoch: 0045 cost= 1.969149470\n",
      "Predictions: [2 2 0 2 0 0 0 0 2 2]\n",
      "Accuracy: 0.57009345\n",
      "______________________________________\n",
      "Train: Epoch: 0050 cost= 2.645847273\n",
      "Valid: Epoch: 0050 cost= 1.944644451\n",
      "Predictions: [2 2 0 2 0 0 0 0 2 2]\n",
      "Accuracy: 0.5420561\n",
      "______________________________________\n",
      "Optimization Finished!\n",
      "Accuracy: 0.5607477\n"
     ]
    }
   ],
   "source": [
    "with tf.Session() as sess:\n",
    "    sess.run(tf.global_variables_initializer())\n",
    "    \n",
    "    for epoch in range(num_epochs):\n",
    "        avg_cost = 0.0\n",
    "        total_batch = int(len(x_train) / batch_size)\n",
    "        x_batches = np.array_split(x_train, total_batch)\n",
    "        y_batches = np.array_split(y_train, total_batch)\n",
    "        \n",
    "        for i in range(total_batch):\n",
    "            batch_x, batch_y = x_batches[i], y_batches[i]\n",
    "            _, c = sess.run([optimizer, cost], \n",
    "                            feed_dict={\n",
    "                                x: batch_x, \n",
    "                                y: batch_y, \n",
    "                                keep_prob: KEEP_PROBABILITY\n",
    "                            })\n",
    "            avg_cost += c / total_batch\n",
    "            \n",
    "        if epoch % display_step == 0:\n",
    "            print(\"Train: Epoch:\", '%04d' % (epoch+display_step), \"cost=\", \"{:.9f}\".format(avg_cost))\n",
    "            _, valid_cost = sess.run([optimizer, cost], feed_dict={x: x_valid, y: y_valid, keep_prob: 1})\n",
    "            print(\"Valid: Epoch:\", '%04d' % (epoch+display_step), \"cost=\", \"{:.9f}\".format(valid_cost))\n",
    "            \n",
    "            \n",
    "            prediction=tf.argmax(predictions,1)\n",
    "            print(\"Predictions:\",prediction.eval(feed_dict={x: x_test, y: y_test, keep_prob: 1.0})[:10])\n",
    "            \n",
    "            \n",
    "            correct_prediction = tf.equal(tf.argmax(predictions, 1), tf.argmax(y, 1))\n",
    "            accuracy = tf.reduce_mean(tf.cast(correct_prediction, \"float\"))\n",
    "            print(\"Accuracy:\", accuracy.eval({x: x_test, y: y_test, keep_prob: 1.0}))\n",
    "            print(\"______________________________________\")\n",
    "    print(\"Optimization Finished!\")\n",
    "    correct_prediction = tf.equal(tf.argmax(predictions, 1), tf.argmax(y, 1))\n",
    "    accuracy = tf.reduce_mean(tf.cast(correct_prediction, \"float\"))\n",
    "    print(\"Accuracy:\", accuracy.eval({x: x_test, y: y_test, keep_prob: 1.0}))"
   ]
  },
  {
   "cell_type": "code",
   "execution_count": null,
   "metadata": {},
   "outputs": [],
   "source": []
  }
 ],
 "metadata": {
  "kernelspec": {
   "display_name": "Python 3",
   "language": "python",
   "name": "python3"
  },
  "language_info": {
   "codemirror_mode": {
    "name": "ipython",
    "version": 3
   },
   "file_extension": ".py",
   "mimetype": "text/x-python",
   "name": "python",
   "nbconvert_exporter": "python",
   "pygments_lexer": "ipython3",
   "version": "3.6.4"
  }
 },
 "nbformat": 4,
 "nbformat_minor": 2
}
